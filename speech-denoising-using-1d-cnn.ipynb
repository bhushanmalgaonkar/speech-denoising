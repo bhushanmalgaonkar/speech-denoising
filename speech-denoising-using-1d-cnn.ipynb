{
  "nbformat": 4,
  "nbformat_minor": 0,
  "metadata": {
    "colab": {
      "name": "speech-denoising-using-1d-cnn.ipynb",
      "version": "0.3.2",
      "provenance": []
    },
    "kernelspec": {
      "name": "python3",
      "display_name": "Python 3"
    },
    "accelerator": "GPU"
  },
  "cells": [
    {
      "metadata": {
        "id": "A22u46Yz9dZt",
        "colab_type": "code",
        "outputId": "223a603a-c732-4538-a9ef-a83cbe4913c0",
        "colab": {
          "base_uri": "https://localhost:8080/",
          "height": 34
        }
      },
      "cell_type": "code",
      "source": [
        "from google.colab import drive\n",
        "drive.mount('/content/drive')"
      ],
      "execution_count": 1,
      "outputs": [
        {
          "output_type": "stream",
          "text": [
            "Drive already mounted at /content/drive; to attempt to forcibly remount, call drive.mount(\"/content/drive\", force_remount=True).\n"
          ],
          "name": "stdout"
        }
      ]
    },
    {
      "metadata": {
        "id": "A6IhYmaK9dZ-",
        "colab_type": "code",
        "colab": {}
      },
      "cell_type": "code",
      "source": [
        "base_path = './drive/My Drive/Colab Notebooks/Speech Denoising/Data/'"
      ],
      "execution_count": 0,
      "outputs": []
    },
    {
      "metadata": {
        "id": "NkkIBfrb9daL",
        "colab_type": "code",
        "outputId": "cdd27fb8-b6b3-443d-87b3-1f7552282311",
        "colab": {
          "base_uri": "https://localhost:8080/",
          "height": 202
        }
      },
      "cell_type": "code",
      "source": [
        "!pip install librosa"
      ],
      "execution_count": 3,
      "outputs": [
        {
          "output_type": "stream",
          "text": [
            "Requirement already satisfied: librosa in /usr/local/lib/python3.6/dist-packages (0.6.3)\n",
            "Requirement already satisfied: audioread>=2.0.0 in /usr/local/lib/python3.6/dist-packages (from librosa) (2.1.6)\n",
            "Requirement already satisfied: numpy>=1.8.0 in /usr/local/lib/python3.6/dist-packages (from librosa) (1.14.6)\n",
            "Requirement already satisfied: scipy>=1.0.0 in /usr/local/lib/python3.6/dist-packages (from librosa) (1.1.0)\n",
            "Requirement already satisfied: scikit-learn!=0.19.0,>=0.14.0 in /usr/local/lib/python3.6/dist-packages (from librosa) (0.20.2)\n",
            "Requirement already satisfied: joblib>=0.12 in /usr/local/lib/python3.6/dist-packages (from librosa) (0.13.2)\n",
            "Requirement already satisfied: decorator>=3.0.0 in /usr/local/lib/python3.6/dist-packages (from librosa) (4.3.2)\n",
            "Requirement already satisfied: six>=1.3 in /usr/local/lib/python3.6/dist-packages (from librosa) (1.11.0)\n",
            "Requirement already satisfied: resampy>=0.2.0 in /usr/local/lib/python3.6/dist-packages (from librosa) (0.2.1)\n",
            "Requirement already satisfied: numba>=0.38.0 in /usr/local/lib/python3.6/dist-packages (from librosa) (0.40.1)\n",
            "Requirement already satisfied: llvmlite>=0.25.0dev0 in /usr/local/lib/python3.6/dist-packages (from numba>=0.38.0->librosa) (0.27.1)\n"
          ],
          "name": "stdout"
        }
      ]
    },
    {
      "metadata": {
        "id": "s3KwRQm39daY",
        "colab_type": "code",
        "colab": {}
      },
      "cell_type": "code",
      "source": [
        "import librosa"
      ],
      "execution_count": 0,
      "outputs": []
    },
    {
      "metadata": {
        "id": "VNFy40WH9dal",
        "colab_type": "code",
        "colab": {}
      },
      "cell_type": "code",
      "source": [
        "import math\n",
        "import numpy as np\n",
        "import matplotlib.pyplot as plt\n",
        "%matplotlib inline"
      ],
      "execution_count": 0,
      "outputs": []
    },
    {
      "metadata": {
        "id": "s2NGSRHz9daz",
        "colab_type": "code",
        "colab": {}
      },
      "cell_type": "code",
      "source": [
        "from sklearn.model_selection import train_test_split\n",
        "import tensorflow as tf"
      ],
      "execution_count": 0,
      "outputs": []
    },
    {
      "metadata": {
        "id": "34VCg8v19dbB",
        "colab_type": "code",
        "colab": {}
      },
      "cell_type": "code",
      "source": [
        "s, sr=librosa.load(base_path + 'train_clean_male.wav', sr=None)\n",
        "train_clean=librosa.stft(s, n_fft=1024, hop_length=512).T\n",
        "\n",
        "sn, sr=librosa.load(base_path + 'train_dirty_male.wav', sr=None)\n",
        "train_dirty=librosa.stft(sn, n_fft=1024, hop_length=512).T"
      ],
      "execution_count": 0,
      "outputs": []
    },
    {
      "metadata": {
        "id": "cEYknx4N9dbK",
        "colab_type": "code",
        "outputId": "b86882a4-d869-4608-dde8-8bddda7600f5",
        "colab": {
          "base_uri": "https://localhost:8080/",
          "height": 34
        }
      },
      "cell_type": "code",
      "source": [
        "train_clean.shape, train_dirty.shape"
      ],
      "execution_count": 8,
      "outputs": [
        {
          "output_type": "execute_result",
          "data": {
            "text/plain": [
              "((2459, 513), (2459, 513))"
            ]
          },
          "metadata": {
            "tags": []
          },
          "execution_count": 8
        }
      ]
    },
    {
      "metadata": {
        "id": "KT6kMu2q9dbS",
        "colab_type": "text"
      },
      "cell_type": "markdown",
      "source": [
        "### Take magnitudes of audio signals"
      ]
    },
    {
      "metadata": {
        "id": "fF9vQnnq9dbT",
        "colab_type": "code",
        "colab": {}
      },
      "cell_type": "code",
      "source": [
        "train_clean_val = np.abs(train_clean).reshape(-1, 1, 513, 1)\n",
        "train_dirty_val = np.abs(train_dirty).reshape(-1, 1, 513, 1)"
      ],
      "execution_count": 0,
      "outputs": []
    },
    {
      "metadata": {
        "id": "pe3fc4CM9dbZ",
        "colab_type": "text"
      },
      "cell_type": "markdown",
      "source": [
        "Check bounds of absolute values"
      ]
    },
    {
      "metadata": {
        "id": "tlGvTOFk9dba",
        "colab_type": "code",
        "outputId": "629ad891-9ce5-4246-a600-dac363a9d852",
        "colab": {
          "base_uri": "https://localhost:8080/",
          "height": 50
        }
      },
      "cell_type": "code",
      "source": [
        "print(f'min(train_clean_val) = {np.min(train_clean_val)}, max(train_clean_val) = {np.max(train_clean_val)}')\n",
        "print(f'min(train_dirty_val) = {np.min(train_dirty_val)}, max(train_dirty_val) = {np.max(train_dirty_val)}')"
      ],
      "execution_count": 26,
      "outputs": [
        {
          "output_type": "stream",
          "text": [
            "min(train_clean_val) = 2.724569583278935e-07, max(train_clean_val) = 31.574600219726562\n",
            "min(train_dirty_val) = 3.297913409028297e-08, max(train_dirty_val) = 31.603910446166992\n"
          ],
          "name": "stdout"
        }
      ]
    },
    {
      "metadata": {
        "id": "XenCp9OT9dbg",
        "colab_type": "text"
      },
      "cell_type": "markdown",
      "source": [
        "## Training"
      ]
    },
    {
      "metadata": {
        "id": "_9HTvGK09dbh",
        "colab_type": "text"
      },
      "cell_type": "markdown",
      "source": [
        "### Split the data into training and validation set"
      ]
    },
    {
      "metadata": {
        "id": "ZFA6a4dM9dbj",
        "colab_type": "code",
        "colab": {}
      },
      "cell_type": "code",
      "source": [
        "X_train, X_test, y_train, y_test = train_test_split(train_dirty_val, train_clean_val, test_size=0.2)"
      ],
      "execution_count": 0,
      "outputs": []
    },
    {
      "metadata": {
        "id": "5AIGM_XQ9dbp",
        "colab_type": "text"
      },
      "cell_type": "markdown",
      "source": [
        "### Define tensorflow variables for the model\n"
      ]
    },
    {
      "metadata": {
        "id": "tIt43KA39dbv",
        "colab_type": "code",
        "colab": {}
      },
      "cell_type": "code",
      "source": [
        "X = tf.placeholder(dtype='float', shape=[None, 1, 513, 1])\n",
        "Y = tf.placeholder(dtype='float', shape=[None, 1, 513, 1])\n",
        "\n",
        "conv_1 = tf.layers.Conv2D(filters=16, kernel_size=(1, 3), strides=(1, 1), padding='same', data_format='channels_last', activation=tf.nn.relu)(X)\n",
        "pool_1 = tf.layers.MaxPooling2D(pool_size=(1, 2), strides=(1, 2))(conv_1)\n",
        "flattened = tf.layers.Flatten()(pool_1)\n",
        "dropout = tf.layers.dropout(rate=0.1, inputs=flattened)\n",
        "dense_1 = tf.layers.Dense(units=513, activation=tf.nn.relu)(dropout)\n",
        "output = tf.reshape(dense_1, shape=[-1, 1, 513, 1])"
      ],
      "execution_count": 0,
      "outputs": []
    },
    {
      "metadata": {
        "id": "ZIhssqg0uJON",
        "colab_type": "code",
        "colab": {
          "base_uri": "https://localhost:8080/",
          "height": 101
        },
        "outputId": "a884bf76-ce9c-45a3-e30b-de2c8952f179"
      },
      "cell_type": "code",
      "source": [
        "print('Conv_1', conv_1, sep='\\t')\n",
        "print('Pool_1', pool_1, sep='\\t')\n",
        "print('Flatten', flattened, sep='\\t')\n",
        "print('Dense', dense_1, sep='\\t')\n",
        "print('Output', output, sep='\\t')"
      ],
      "execution_count": 29,
      "outputs": [
        {
          "output_type": "stream",
          "text": [
            "Conv_1\tTensor(\"conv2d_1/Relu:0\", shape=(?, 1, 513, 16), dtype=float32)\n",
            "Pool_1\tTensor(\"max_pooling2d_1/MaxPool:0\", shape=(?, 1, 256, 16), dtype=float32)\n",
            "Flatten\tTensor(\"flatten_1/Reshape:0\", shape=(?, 4096), dtype=float32)\n",
            "Dense\tTensor(\"dense_1/Relu:0\", shape=(?, 513), dtype=float32)\n",
            "Output\tTensor(\"Reshape_1:0\", shape=(?, 1, 513, 1), dtype=float32)\n"
          ],
          "name": "stdout"
        }
      ]
    },
    {
      "metadata": {
        "id": "lo0_lniBuWxj",
        "colab_type": "code",
        "colab": {}
      },
      "cell_type": "code",
      "source": [
        "learning_rate = 0.0004\n",
        "loss = tf.losses.mean_squared_error(labels=Y, predictions=output)\n",
        "train = tf.train.AdamOptimizer(learning_rate=learning_rate).minimize(loss=loss)\n",
        "init = tf.global_variables_initializer()"
      ],
      "execution_count": 0,
      "outputs": []
    },
    {
      "metadata": {
        "id": "vjTPGAaDvH-u",
        "colab_type": "code",
        "colab": {}
      },
      "cell_type": "code",
      "source": [
        "batch_size = 100\n",
        "num_epochs = 1000\n",
        "display_step = 200\n",
        "log_step = 1\n",
        "\n",
        "total_samples_train = X_train.shape[0]\n",
        "total_samples_test = X_test.shape[0]\n",
        "num_batches_train = int(math.ceil(total_samples_train/batch_size))\n",
        "num_batches_test = int(math.ceil(total_samples_test/batch_size))\n",
        "\n",
        "train_loss = []\n",
        "test_loss = []"
      ],
      "execution_count": 0,
      "outputs": []
    },
    {
      "metadata": {
        "id": "0mbv5_kAvWaP",
        "colab_type": "code",
        "colab": {
          "base_uri": "https://localhost:8080/",
          "height": 34
        },
        "outputId": "ec2b62e0-39b3-4a5c-da98-a199c3343d0b"
      },
      "cell_type": "code",
      "source": [
        "X_train.shape, y_train.shape"
      ],
      "execution_count": 50,
      "outputs": [
        {
          "output_type": "execute_result",
          "data": {
            "text/plain": [
              "((1967, 1, 513, 1), (1967, 1, 513, 1))"
            ]
          },
          "metadata": {
            "tags": []
          },
          "execution_count": 50
        }
      ]
    },
    {
      "metadata": {
        "id": "yftyNPzbuR8o",
        "colab_type": "code",
        "colab": {
          "base_uri": "https://localhost:8080/",
          "height": 353
        },
        "outputId": "63993550-6122-4a62-eda4-ab35ea703aaf"
      },
      "cell_type": "code",
      "source": [
        "sess = tf.Session()\n",
        "\n",
        "sess.run(init)\n",
        "for epoch in range(1, num_epochs + 1):\n",
        "  for itr in range(num_batches_train):\n",
        "    start_idx = itr * batch_size\n",
        "    end_idx = min((itr + 1) * batch_size, total_samples_train)\n",
        "    \n",
        "    batch_x = X_train[start_idx:end_idx]\n",
        "    batch_y = y_train[start_idx:end_idx]\n",
        "    sess.run(train, feed_dict={X:batch_x, Y:batch_y})\n",
        "    \n",
        "  if epoch % log_step == 0:\n",
        "    # calculate loss for entire training and testing set\n",
        "    trls = 0\n",
        "    for itr in range(num_batches_train):\n",
        "      start_idx = itr * batch_size\n",
        "      end_idx = min((itr + 1) * batch_size, total_samples_train)\n",
        "      \n",
        "      batch_x = X_train[start_idx:end_idx]\n",
        "      batch_y = y_train[start_idx:end_idx]\n",
        "      \n",
        "      trls += sess.run(loss, feed_dict={X:batch_x, Y:batch_y})\n",
        "      \n",
        "    tsls = 0\n",
        "    for itr in range(num_batches_test):\n",
        "      start_idx = itr * batch_size\n",
        "      end_idx = min((itr + 1) * batch_size, total_samples_test)\n",
        "\n",
        "      batch_x = X_train[start_idx:end_idx]\n",
        "      batch_y = y_train[start_idx:end_idx]\n",
        "      \n",
        "      tsls += sess.run(loss, feed_dict={X:batch_x, Y:batch_y})\n",
        "    \n",
        "    # average loss\n",
        "    trls /= total_samples_train\n",
        "    tsls /= total_samples_test\n",
        "    \n",
        "    train_loss.append(trls)\n",
        "    test_loss.append(tsls)\n",
        "    \n",
        "  if epoch % display_step == 0:\n",
        "    print(f'Finished epoch:{epoch}')\n",
        "    print(f'Train set:\\tLoss:{trls:.8f}')\n",
        "    print(f'Test set:\\tLoss:{tsls:.8f}\\n')"
      ],
      "execution_count": 51,
      "outputs": [
        {
          "output_type": "stream",
          "text": [
            "Finished epoch:200\n",
            "Train set:\tLoss:0.00002649\n",
            "Test set:\tLoss:0.00002381\n",
            "\n",
            "Finished epoch:400\n",
            "Train set:\tLoss:0.00001902\n",
            "Test set:\tLoss:0.00001697\n",
            "\n",
            "Finished epoch:600\n",
            "Train set:\tLoss:0.00001687\n",
            "Test set:\tLoss:0.00001520\n",
            "\n",
            "Finished epoch:800\n",
            "Train set:\tLoss:0.00001582\n",
            "Test set:\tLoss:0.00001389\n",
            "\n",
            "Finished epoch:1000\n",
            "Train set:\tLoss:0.00001579\n",
            "Test set:\tLoss:0.00001350\n",
            "\n"
          ],
          "name": "stdout"
        }
      ]
    },
    {
      "metadata": {
        "id": "e2e7Ff8IvQQk",
        "colab_type": "code",
        "colab": {
          "base_uri": "https://localhost:8080/",
          "height": 282
        },
        "outputId": "d76b1806-677d-41d8-dd7d-3a9632174f46"
      },
      "cell_type": "code",
      "source": [
        "plt.plot(train_loss)\n",
        "plt.plot(test_loss)\n",
        "plt.legend(['Training loss', 'Validation loss'])"
      ],
      "execution_count": 61,
      "outputs": [
        {
          "output_type": "execute_result",
          "data": {
            "text/plain": [
              "<matplotlib.legend.Legend at 0x7ff613aeacf8>"
            ]
          },
          "metadata": {
            "tags": []
          },
          "execution_count": 61
        },
        {
          "output_type": "display_data",
          "data": {
            "image/png": "[encoded data removed]",
            "text/plain": [
              "<Figure size 432x288 with 1 Axes>"
            ]
          },
          "metadata": {
            "tags": []
          }
        }
      ]
    },
    {
      "metadata": {
        "id": "EuTN7TSEMUlN",
        "colab_type": "text"
      },
      "cell_type": "markdown",
      "source": [
        "## Testing"
      ]
    },
    {
      "metadata": {
        "id": "PivecbdAMh9j",
        "colab_type": "text"
      },
      "cell_type": "markdown",
      "source": [
        "### Calculate Signal-to-Noise Ratio using following formula\n",
        "\n",
        "<img src=\"https://d1b10bmlvqabco.cloudfront.net/attach/jqcgj7tyoxz6oi/jl5gazm4ih22q1/jrx4uo8px5hd/SNR.JPG\" width=\"400\">\n"
      ]
    },
    {
      "metadata": {
        "id": "64TaTP2ZMVC_",
        "colab_type": "code",
        "colab": {}
      },
      "cell_type": "code",
      "source": [
        "def snr(dirty, clean):\n",
        "  return 10 * np.log10(np.sum(np.square(clean))/np.sum(np.square(clean - dirty)))"
      ],
      "execution_count": 0,
      "outputs": []
    },
    {
      "metadata": {
        "id": "tyG9n_WSMoOh",
        "colab_type": "text"
      },
      "cell_type": "markdown",
      "source": [
        "#### SNR for training data"
      ]
    },
    {
      "metadata": {
        "id": "MSH4QQ6oMk96",
        "colab_type": "code",
        "colab": {
          "base_uri": "https://localhost:8080/",
          "height": 34
        },
        "outputId": "e4aaa5b1-c9d7-41f5-bf39-4f791f161b4e"
      },
      "cell_type": "code",
      "source": [
        "cleaned = sess.run(output, feed_dict={X: X_train})\n",
        "print(snr(cleaned, y_train))"
      ],
      "execution_count": 63,
      "outputs": [
        {
          "output_type": "stream",
          "text": [
            "18.027353286743164\n"
          ],
          "name": "stdout"
        }
      ]
    },
    {
      "metadata": {
        "id": "ZmKF8Gs7MwGY",
        "colab_type": "text"
      },
      "cell_type": "markdown",
      "source": [
        "#### SNR for validation data"
      ]
    },
    {
      "metadata": {
        "id": "hH6ccoHEMZLp",
        "colab_type": "code",
        "colab": {
          "base_uri": "https://localhost:8080/",
          "height": 34
        },
        "outputId": "17983b06-3f2b-44e2-e2d8-2b1c3dffbb97"
      },
      "cell_type": "code",
      "source": [
        "cleaned = sess.run(output, feed_dict={X: X_test})\n",
        "print(snr(cleaned, y_test))"
      ],
      "execution_count": 64,
      "outputs": [
        {
          "output_type": "stream",
          "text": [
            "12.996304035186768\n"
          ],
          "name": "stdout"
        }
      ]
    },
    {
      "metadata": {
        "id": "mlc2Twyb9dcU",
        "colab_type": "text"
      },
      "cell_type": "markdown",
      "source": [
        "## Prediction"
      ]
    },
    {
      "metadata": {
        "id": "Un96kFAc9dcW",
        "colab_type": "code",
        "colab": {}
      },
      "cell_type": "code",
      "source": [
        "def clean_audio(filename):\n",
        "    # load audio file\n",
        "    s, sr = librosa.load(filename, sr=None)\n",
        "    \n",
        "    # apply short time fourier transform\n",
        "    dirty = librosa.stft(s, n_fft=1024, hop_length=512).T\n",
        "    \n",
        "    # take magnitudes of audio signals\n",
        "    dirty_val = np.abs(dirty)\n",
        "    \n",
        "    total_samples = dirty_val.shape[0]\n",
        "    batch_size = 100\n",
        "    num_batches = int(math.ceil(total_samples/batch_size))\n",
        "    \n",
        "    # run it through the neural network to remove noisy bits\n",
        "    clean_val = np.empty(shape=(0, 513), dtype='float')\n",
        "    for itr in range(num_batches):\n",
        "      start_idx = itr * batch_size\n",
        "      end_idx = min((itr + 1) * batch_size, total_samples)\n",
        "      \n",
        "      batch_x = dirty_val[start_idx:end_idx].reshape(-1, 1, 513, 1)\n",
        "      op = sess.run(output, feed_dict={X:batch_x, Y:batch_y})\n",
        "      op = op.reshape(-1, 513)\n",
        "        \n",
        "      clean_val = np.concatenate([clean_val, op], axis=0)\n",
        "    \n",
        "    # recover speech spectogram of the cleaned signal\n",
        "    cleaned = np.multiply(np.divide(dirty.T, dirty_val.T), clean_val.T)\n",
        "    return cleaned"
      ],
      "execution_count": 0,
      "outputs": []
    },
    {
      "metadata": {
        "id": "0hDRmTae9dcf",
        "colab_type": "code",
        "colab": {}
      },
      "cell_type": "code",
      "source": [
        "def save_audio(cleaned, to_filename):\n",
        "    # recover time domain speech signal by applying inverse short time fourier transform\n",
        "    sh_test = librosa.istft(cleaned, hop_length=512)\n",
        "    \n",
        "    # Save to a file\n",
        "    librosa.output.write_wav(to_filename, sh_test, sr)\n",
        "    print('Saved to ', to_filename)"
      ],
      "execution_count": 0,
      "outputs": []
    },
    {
      "metadata": {
        "id": "1y_iWrxa9dco",
        "colab_type": "code",
        "outputId": "7492bdf9-0c00-48fd-e84f-dc7cbbbfe9b8",
        "colab": {
          "base_uri": "https://localhost:8080/",
          "height": 34
        }
      },
      "cell_type": "code",
      "source": [
        "cleaned = clean_audio(base_path + 'test_x_01.wav')\n",
        "save_audio(cleaned, base_path + 'test_x_01_cleaned.wav')"
      ],
      "execution_count": 67,
      "outputs": [
        {
          "output_type": "stream",
          "text": [
            "Saved to  ./drive/My Drive/Colab Notebooks/Speech Denoising/Data/test_x_01_cleaned.wav\n"
          ],
          "name": "stdout"
        }
      ]
    },
    {
      "metadata": {
        "id": "r2eSLZSt9dcz",
        "colab_type": "code",
        "colab": {
          "base_uri": "https://localhost:8080/",
          "height": 34
        },
        "outputId": "6123672c-ce2b-4cea-b49c-2c26de576c5f"
      },
      "cell_type": "code",
      "source": [
        "cleaned = clean_audio(base_path + 'test_x_02.wav')\n",
        "save_audio(cleaned, base_path + 'test_x_02_cleaned.wav')"
      ],
      "execution_count": 68,
      "outputs": [
        {
          "output_type": "stream",
          "text": [
            "Saved to  ./drive/My Drive/Colab Notebooks/Speech Denoising/Data/test_x_02_cleaned.wav\n"
          ],
          "name": "stdout"
        }
      ]
    },
    {
      "metadata": {
        "id": "imxwcOer9CN1",
        "colab_type": "code",
        "colab": {
          "base_uri": "https://localhost:8080/",
          "height": 34
        },
        "outputId": "3d8b8a10-83ba-46e3-c3b2-2fe8c370e7f3"
      },
      "cell_type": "code",
      "source": [
        "cleaned = clean_audio(base_path + 'train_dirty_male.wav')\n",
        "save_audio(cleaned, base_path + 'train_dirty_male_cleaned.wav')"
      ],
      "execution_count": 69,
      "outputs": [
        {
          "output_type": "stream",
          "text": [
            "Saved to  ./drive/My Drive/Colab Notebooks/Speech Denoising/Data/train_dirty_male_cleaned.wav\n"
          ],
          "name": "stdout"
        }
      ]
    },
    {
      "metadata": {
        "id": "hh4QW3AH99W6",
        "colab_type": "code",
        "colab": {}
      },
      "cell_type": "code",
      "source": [
        ""
      ],
      "execution_count": 0,
      "outputs": []
    },
    {
      "metadata": {
        "id": "DxlzFhpe9dc6",
        "colab_type": "code",
        "colab": {}
      },
      "cell_type": "code",
      "source": [
        "sess.close()"
      ],
      "execution_count": 0,
      "outputs": []
    },
    {
      "metadata": {
        "id": "oKizJxZR9dc_",
        "colab_type": "code",
        "colab": {}
      },
      "cell_type": "code",
      "source": [
        ""
      ],
      "execution_count": 0,
      "outputs": []
    }
  ]
}