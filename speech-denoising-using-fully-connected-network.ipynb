{
 "cells": [
  {
   "cell_type": "code",
   "execution_count": 1,
   "metadata": {
    "colab": {
     "base_uri": "https://localhost:8080/",
     "height": 34
    },
    "colab_type": "code",
    "id": "HSRqtPzVrAPP",
    "outputId": "695d094a-56bd-4313-fdbc-fb7d0764d9cd"
   },
   "outputs": [
    {
     "ename": "ModuleNotFoundError",
     "evalue": "No module named 'google.colab'",
     "output_type": "error",
     "traceback": [
      "\u001b[1;31m---------------------------------------------------------------------------\u001b[0m",
      "\u001b[1;31mModuleNotFoundError\u001b[0m                       Traceback (most recent call last)",
      "\u001b[1;32m<ipython-input-1-d5df0069828e>\u001b[0m in \u001b[0;36m<module>\u001b[1;34m()\u001b[0m\n\u001b[1;32m----> 1\u001b[1;33m \u001b[1;32mfrom\u001b[0m \u001b[0mgoogle\u001b[0m\u001b[1;33m.\u001b[0m\u001b[0mcolab\u001b[0m \u001b[1;32mimport\u001b[0m \u001b[0mdrive\u001b[0m\u001b[1;33m\u001b[0m\u001b[0m\n\u001b[0m\u001b[0;32m      2\u001b[0m \u001b[0mdrive\u001b[0m\u001b[1;33m.\u001b[0m\u001b[0mmount\u001b[0m\u001b[1;33m(\u001b[0m\u001b[1;34m'/content/drive'\u001b[0m\u001b[1;33m)\u001b[0m\u001b[1;33m\u001b[0m\u001b[0m\n",
      "\u001b[1;31mModuleNotFoundError\u001b[0m: No module named 'google.colab'"
     ]
    }
   ],
   "source": [
    "from google.colab import drive\n",
    "drive.mount('/content/drive')"
   ]
  },
  {
   "cell_type": "code",
   "execution_count": 0,
   "metadata": {
    "colab": {},
    "colab_type": "code",
    "id": "hZc0BcKmrS7c"
   },
   "outputs": [],
   "source": [
    "base_path = './drive/My Drive/Colab Notebooks/Speech Denoising/Data/'"
   ]
  },
  {
   "cell_type": "code",
   "execution_count": 4,
   "metadata": {
    "colab": {
     "base_uri": "https://localhost:8080/",
     "height": 204
    },
    "colab_type": "code",
    "id": "JFqSpd8QrkLB",
    "outputId": "93fc6b81-6a6b-4179-ebe6-92cb383cfe8f"
   },
   "outputs": [
    {
     "name": "stdout",
     "output_type": "stream",
     "text": [
      "Requirement already satisfied: librosa in /usr/local/lib/python3.6/dist-packages (0.6.2)\n",
      "Requirement already satisfied: audioread>=2.0.0 in /usr/local/lib/python3.6/dist-packages (from librosa) (2.1.6)\n",
      "Requirement already satisfied: numpy>=1.8.0 in /usr/local/lib/python3.6/dist-packages (from librosa) (1.14.6)\n",
      "Requirement already satisfied: scipy>=0.14.0 in /usr/local/lib/python3.6/dist-packages (from librosa) (1.1.0)\n",
      "Requirement already satisfied: scikit-learn!=0.19.0,>=0.14.0 in /usr/local/lib/python3.6/dist-packages (from librosa) (0.20.2)\n",
      "Requirement already satisfied: joblib>=0.12 in /usr/local/lib/python3.6/dist-packages (from librosa) (0.13.1)\n",
      "Requirement already satisfied: decorator>=3.0.0 in /usr/local/lib/python3.6/dist-packages (from librosa) (4.3.2)\n",
      "Requirement already satisfied: six>=1.3 in /usr/local/lib/python3.6/dist-packages (from librosa) (1.11.0)\n",
      "Requirement already satisfied: resampy>=0.2.0 in /usr/local/lib/python3.6/dist-packages (from librosa) (0.2.1)\n",
      "Requirement already satisfied: numba>=0.38.0 in /usr/local/lib/python3.6/dist-packages (from librosa) (0.40.1)\n",
      "Requirement already satisfied: llvmlite>=0.25.0dev0 in /usr/local/lib/python3.6/dist-packages (from numba>=0.38.0->librosa) (0.27.0)\n"
     ]
    }
   ],
   "source": [
    "!pip install librosa"
   ]
  },
  {
   "cell_type": "code",
   "execution_count": 0,
   "metadata": {
    "colab": {},
    "colab_type": "code",
    "id": "0YFHhrSMsJXv"
   },
   "outputs": [],
   "source": [
    "import librosa"
   ]
  },
  {
   "cell_type": "code",
   "execution_count": 0,
   "metadata": {
    "colab": {},
    "colab_type": "code",
    "id": "_-ZIRvuJshRs"
   },
   "outputs": [],
   "source": [
    "import math\n",
    "import numpy as np\n",
    "import seaborn as sns\n",
    "import matplotlib.pyplot as plt\n",
    "%matplotlib inline"
   ]
  },
  {
   "cell_type": "code",
   "execution_count": 0,
   "metadata": {
    "colab": {},
    "colab_type": "code",
    "id": "ZmBneRi6gzXW"
   },
   "outputs": [],
   "source": [
    "from sklearn.model_selection import train_test_split\n",
    "import tensorflow as tf"
   ]
  },
  {
   "cell_type": "code",
   "execution_count": 0,
   "metadata": {
    "colab": {},
    "colab_type": "code",
    "id": "hZXyC52Zg6Qi"
   },
   "outputs": [],
   "source": [
    "s, sr=librosa.load(base_path + 'train_clean_male.wav', sr=None)\n",
    "train_clean=librosa.stft(s, n_fft=1024, hop_length=512).T\n",
    "\n",
    "sn, sr=librosa.load(base_path + 'train_dirty_male.wav', sr=None)\n",
    "train_dirty=librosa.stft(sn, n_fft=1024, hop_length=512).T"
   ]
  },
  {
   "cell_type": "code",
   "execution_count": 9,
   "metadata": {
    "colab": {
     "base_uri": "https://localhost:8080/",
     "height": 34
    },
    "colab_type": "code",
    "id": "_6yPxpcSxj7p",
    "outputId": "df5c3f95-d668-48c9-9d8f-e67770dc366c"
   },
   "outputs": [
    {
     "data": {
      "text/plain": [
       "((2459, 513), (2459, 513))"
      ]
     },
     "execution_count": 9,
     "metadata": {
      "tags": []
     },
     "output_type": "execute_result"
    }
   ],
   "source": [
    "train_clean.shape, train_dirty.shape"
   ]
  },
  {
   "cell_type": "markdown",
   "metadata": {
    "colab_type": "text",
    "id": "8YEwrLFihJGM"
   },
   "source": [
    "### Take magnitudes of audio signals"
   ]
  },
  {
   "cell_type": "code",
   "execution_count": 0,
   "metadata": {
    "colab": {},
    "colab_type": "code",
    "id": "_slk67wcs5cU"
   },
   "outputs": [],
   "source": [
    "train_clean_val = np.abs(train_clean)\n",
    "train_dirty_val = np.abs(train_dirty)"
   ]
  },
  {
   "cell_type": "markdown",
   "metadata": {
    "colab_type": "text",
    "id": "ko0CrSJnhZR8"
   },
   "source": [
    "Check bounds of absolute values"
   ]
  },
  {
   "cell_type": "code",
   "execution_count": 11,
   "metadata": {
    "colab": {
     "base_uri": "https://localhost:8080/",
     "height": 51
    },
    "colab_type": "code",
    "id": "tWshm3Pal3Q0",
    "outputId": "30bef5e1-0bc1-46e8-c20d-4981df43196d"
   },
   "outputs": [
    {
     "name": "stdout",
     "output_type": "stream",
     "text": [
      "min(train_clean_val) = 2.724569583278935e-07, max(train_clean_val) = 31.574600219726562\n",
      "min(train_dirty_val) = 3.297913409028297e-08, max(train_dirty_val) = 31.603910446166992\n"
     ]
    }
   ],
   "source": [
    "print(f'min(train_clean_val) = {np.min(train_clean_val)}, max(train_clean_val) = {np.max(train_clean_val)}')\n",
    "print(f'min(train_dirty_val) = {np.min(train_dirty_val)}, max(train_dirty_val) = {np.max(train_dirty_val)}')"
   ]
  },
  {
   "cell_type": "markdown",
   "metadata": {
    "colab_type": "text",
    "id": "3otn5sN5he5i"
   },
   "source": [
    "## Training"
   ]
  },
  {
   "cell_type": "markdown",
   "metadata": {
    "colab_type": "text",
    "id": "tgWwGITBhirI"
   },
   "source": [
    "### Split the data into training and validation set"
   ]
  },
  {
   "cell_type": "code",
   "execution_count": 0,
   "metadata": {
    "colab": {},
    "colab_type": "code",
    "id": "Rc4PTfip8ySC"
   },
   "outputs": [],
   "source": [
    "X_train, X_test, y_train, y_test = train_test_split(train_dirty_val, train_clean_val, test_size=0.2)"
   ]
  },
  {
   "cell_type": "markdown",
   "metadata": {
    "colab_type": "text",
    "id": "gqqJpVZoiELT"
   },
   "source": [
    "### Define tensorflow variables for the model"
   ]
  },
  {
   "cell_type": "code",
   "execution_count": 0,
   "metadata": {
    "colab": {},
    "colab_type": "code",
    "id": "cA6eDgEXmj61"
   },
   "outputs": [],
   "source": [
    "X = tf.placeholder(dtype='float', shape=[None, 513])\n",
    "y = tf.placeholder(dtype='float', shape=[None, 513])"
   ]
  },
  {
   "cell_type": "markdown",
   "metadata": {
    "colab_type": "text",
    "id": "S8Ke-tJGiywL"
   },
   "source": [
    "#### Network architecture. \n",
    "\n",
    "Since, we are trying to remove the noise, the following architecture makes the most sense. The network is narrow in the middle, so it has to get rid of some singals, but still be able to construct desired clean audio. This means the network must be getting rid of all non-essential signals i.e. noise, leaving us with clean audio."
   ]
  },
  {
   "cell_type": "code",
   "execution_count": 0,
   "metadata": {
    "colab": {},
    "colab_type": "code",
    "id": "js3eQ0gLivR4"
   },
   "outputs": [],
   "source": [
    "in_units = 513\n",
    "h1_units = 380\n",
    "h2_units = 200\n",
    "h3_units = 200\n",
    "h4_units = 380\n",
    "out_units = 513"
   ]
  },
  {
   "cell_type": "markdown",
   "metadata": {
    "colab_type": "text",
    "id": "FQzR8fGnicnb"
   },
   "source": [
    "#### Initialize weight and bias matrix using He initializer\n"
   ]
  },
  {
   "cell_type": "code",
   "execution_count": 15,
   "metadata": {
    "colab": {
     "base_uri": "https://localhost:8080/",
     "height": 68
    },
    "colab_type": "code",
    "id": "q2DjaFtuia-w",
    "outputId": "8a88581d-2b68-4e4c-c4d2-69a767a0387f"
   },
   "outputs": [
    {
     "name": "stdout",
     "output_type": "stream",
     "text": [
      "WARNING:tensorflow:From /usr/local/lib/python3.6/dist-packages/tensorflow/python/framework/op_def_library.py:263: colocate_with (from tensorflow.python.framework.ops) is deprecated and will be removed in a future version.\n",
      "Instructions for updating:\n",
      "Colocations handled automatically by placer.\n"
     ]
    }
   ],
   "source": [
    "# He initializer: mean = 0.0, stddev = sqrt(2/#in_nodes)\n",
    "weights = {\n",
    "    'w1': tf.Variable(dtype='float', initial_value=tf.random_normal(shape=[in_units, h1_units], mean=0.0, stddev=np.sqrt(2/in_units))),\n",
    "    'w2': tf.Variable(dtype='float', initial_value=tf.random_normal(shape=[h1_units, h2_units], mean=0.0, stddev=np.sqrt(2/h1_units))),\n",
    "    'w3': tf.Variable(dtype='float', initial_value=tf.random_normal(shape=[h2_units, h3_units], mean=0.0, stddev=np.sqrt(2/h2_units))),\n",
    "    'w4': tf.Variable(dtype='float', initial_value=tf.random_normal(shape=[h3_units, h4_units], mean=0.0, stddev=np.sqrt(2/h3_units))),\n",
    "    'out': tf.Variable(dtype='float', initial_value=tf.random_normal(shape=[h4_units, out_units], mean=0.0, stddev=np.sqrt(2/h4_units))),\n",
    "}\n",
    "\n",
    "bias_initial_value = 0.01\n",
    "biases = {\n",
    "    'b1': tf.Variable(initial_value=tf.ones([h1_units]) * bias_initial_value),\n",
    "    'b2': tf.Variable(initial_value=tf.ones([h2_units]) * bias_initial_value),\n",
    "    'b3': tf.Variable(initial_value=tf.ones([h3_units]) * bias_initial_value),\n",
    "    'b4': tf.Variable(initial_value=tf.ones([h4_units]) * bias_initial_value),\n",
    "    'out': tf.Variable(initial_value=tf.ones([out_units]) * bias_initial_value)\n",
    "}"
   ]
  },
  {
   "cell_type": "markdown",
   "metadata": {
    "colab_type": "text",
    "id": "98GFdjbJGzGs"
   },
   "source": [
    "#### Plug everything together"
   ]
  },
  {
   "cell_type": "code",
   "execution_count": 16,
   "metadata": {
    "colab": {
     "base_uri": "https://localhost:8080/",
     "height": 68
    },
    "colab_type": "code",
    "id": "8bhXFbA9nTAF",
    "outputId": "ca92f810-2a94-4661-e0bb-294acf9f1e2d"
   },
   "outputs": [
    {
     "name": "stdout",
     "output_type": "stream",
     "text": [
      "WARNING:tensorflow:From /usr/local/lib/python3.6/dist-packages/tensorflow/python/ops/losses/losses_impl.py:667: to_float (from tensorflow.python.ops.math_ops) is deprecated and will be removed in a future version.\n",
      "Instructions for updating:\n",
      "Use tf.cast instead.\n"
     ]
    }
   ],
   "source": [
    "# hyper-parameters\n",
    "beta = 0.000005\n",
    "learning_rate = 0.0001\n",
    "\n",
    "z1 = tf.add(tf.matmul(X, weights['w1']), biases['b1'])\n",
    "a1 = tf.nn.relu(z1)\n",
    "\n",
    "z2 = tf.add(tf.matmul(a1, weights['w2']), biases['b2'])\n",
    "a2 = tf.nn.relu(z2)\n",
    "\n",
    "z3 = tf.add(tf.matmul(a2, weights['w3']), biases['b3'])\n",
    "a3 = tf.nn.relu(z3)\n",
    "\n",
    "z4 = tf.add(tf.matmul(a2, weights['w4']), biases['b4'])\n",
    "a4 = tf.nn.relu(z4)\n",
    "\n",
    "logits = tf.add(tf.matmul(a4, weights['out']), biases['out'])\n",
    "output = tf.nn.relu(logits)\n",
    "\n",
    "# losses\n",
    "regularizers = tf.nn.l2_loss(weights['w1']) + tf.nn.l2_loss(weights['w2']) + tf.nn.l2_loss(weights['w3']) + tf.nn.l2_loss(weights['w4']) + tf.nn.l2_loss(weights['out'])\n",
    "mse = tf.losses.mean_squared_error(labels=y, predictions=output)\n",
    "loss = tf.reduce_mean(mse + beta * regularizers)\n",
    "\n",
    "train = tf.train.AdamOptimizer(learning_rate=learning_rate).minimize(loss=loss)\n",
    "\n",
    "init = tf.global_variables_initializer()"
   ]
  },
  {
   "cell_type": "code",
   "execution_count": 17,
   "metadata": {
    "colab": {
     "base_uri": "https://localhost:8080/",
     "height": 697
    },
    "colab_type": "code",
    "id": "so4uXh7Bni3K",
    "outputId": "d796a8ae-690e-4f74-b49a-87508fdebd24"
   },
   "outputs": [
    {
     "name": "stdout",
     "output_type": "stream",
     "text": [
      "Epoch:1000\n",
      "Train set:\tLoss:0.0092,\tMSE:0.0039\n",
      "Test set:\tLoss:0.0160,\tMSE:0.0107\n",
      "\n",
      "Epoch:2000\n",
      "Train set:\tLoss:0.0057,\tMSE:0.0021\n",
      "Test set:\tLoss:0.0117,\tMSE:0.0081\n",
      "\n",
      "Epoch:3000\n",
      "Train set:\tLoss:0.0037,\tMSE:0.0012\n",
      "Test set:\tLoss:0.0088,\tMSE:0.0064\n",
      "\n",
      "Epoch:4000\n",
      "Train set:\tLoss:0.0028,\tMSE:0.0010\n",
      "Test set:\tLoss:0.0076,\tMSE:0.0058\n",
      "\n",
      "Epoch:5000\n",
      "Train set:\tLoss:0.0024,\tMSE:0.0008\n",
      "Test set:\tLoss:0.0070,\tMSE:0.0055\n",
      "\n",
      "Epoch:6000\n",
      "Train set:\tLoss:0.0022,\tMSE:0.0007\n",
      "Test set:\tLoss:0.0068,\tMSE:0.0054\n",
      "\n",
      "Epoch:7000\n",
      "Train set:\tLoss:0.0021,\tMSE:0.0007\n",
      "Test set:\tLoss:0.0067,\tMSE:0.0053\n",
      "\n",
      "Epoch:8000\n",
      "Train set:\tLoss:0.0021,\tMSE:0.0007\n",
      "Test set:\tLoss:0.0066,\tMSE:0.0052\n",
      "\n",
      "Epoch:9000\n",
      "Train set:\tLoss:0.0020,\tMSE:0.0007\n",
      "Test set:\tLoss:0.0065,\tMSE:0.0052\n",
      "\n",
      "Epoch:10000\n",
      "Train set:\tLoss:0.0020,\tMSE:0.0007\n",
      "Test set:\tLoss:0.0065,\tMSE:0.0052\n",
      "\n"
     ]
    }
   ],
   "source": [
    "batch_size = 1000\n",
    "num_epochs = 10000\n",
    "display_step = 1000\n",
    "log_step = 10\n",
    "\n",
    "total_samples = X_train.shape[0]\n",
    "num_batches = int(math.ceil(total_samples/batch_size))\n",
    "\n",
    "# these lists will be used to display accuracy/loss graphs over epochs\n",
    "train_loss, test_loss = [], []\n",
    "train_mse, test_mse = [], []\n",
    "\n",
    "sess = tf.Session()\n",
    "\n",
    "sess.run(init)\n",
    "for epoch in range(1, num_epochs + 1):\n",
    "  for itr in range(num_batches):\n",
    "    start_idx = itr * batch_size\n",
    "    end_idx = min((itr + 1) * batch_size, total_samples)\n",
    "    batch_x, batch_y = X_train[start_idx:end_idx, :], y_train[start_idx:end_idx, :]\n",
    "    sess.run(train, feed_dict={X: batch_x, y: batch_y})\n",
    "    \n",
    "  if epoch % log_step == 0:\n",
    "    trls, trmse = sess.run([loss, mse], feed_dict={X: X_train, y: y_train})\n",
    "    tsls, tsmse = sess.run([loss, mse], feed_dict={X: X_test, y: y_test})\n",
    "    \n",
    "    train_loss.append(trls)\n",
    "    train_mse.append(trmse)\n",
    "    \n",
    "    test_loss.append(tsls)\n",
    "    test_mse.append(tsmse)\n",
    "    \n",
    "  if epoch % display_step == 0:\n",
    "    print(f'Epoch:{epoch}')\n",
    "    print(f'Train set:\\tLoss:{trls:.4f},\\tMSE:{trmse:.4f}')\n",
    "    print(f'Test set:\\tLoss:{tsls:.4f},\\tMSE:{tsmse:.4f}\\n')"
   ]
  },
  {
   "cell_type": "code",
   "execution_count": 18,
   "metadata": {
    "colab": {
     "base_uri": "https://localhost:8080/",
     "height": 282
    },
    "colab_type": "code",
    "id": "fMPLGC-knyvZ",
    "outputId": "264bdbf7-0177-4312-d311-01a804d5bb9d"
   },
   "outputs": [
    {
     "data": {
      "text/plain": [
       "<matplotlib.legend.Legend at 0x7fdbcefdb438>"
      ]
     },
     "execution_count": 18,
     "metadata": {
      "tags": []
     },
     "output_type": "execute_result"
    },
    {
     "data": {
      "image/png": "[encoded data removed]",
      "text/plain": [
       "<Figure size 432x288 with 1 Axes>"
      ]
     },
     "metadata": {
      "tags": []
     },
     "output_type": "display_data"
    }
   ],
   "source": [
    "plt.plot(train_loss)\n",
    "plt.plot(test_loss)\n",
    "plt.legend(['training loss', 'validation_loss'])"
   ]
  },
  {
   "cell_type": "markdown",
   "metadata": {
    "colab_type": "text",
    "id": "irGJDFI4LjY2"
   },
   "source": [
    "## Testing"
   ]
  },
  {
   "cell_type": "markdown",
   "metadata": {
    "colab_type": "text",
    "id": "UM8Onjwk4-qT"
   },
   "source": [
    "### Calculate Signal-to-Noise Ratio using following formula\n",
    "\n",
    "<img src=\"https://d1b10bmlvqabco.cloudfront.net/attach/jqcgj7tyoxz6oi/jl5gazm4ih22q1/jrx4uo8px5hd/SNR.JPG\" width=\"400\">\n"
   ]
  },
  {
   "cell_type": "code",
   "execution_count": 0,
   "metadata": {
    "colab": {},
    "colab_type": "code",
    "id": "dp3nJaqivou7"
   },
   "outputs": [],
   "source": [
    "def snr(dirty, clean):\n",
    "  return 10 * np.log10(np.sum(np.square(clean))/np.sum(np.square(clean - dirty)))"
   ]
  },
  {
   "cell_type": "markdown",
   "metadata": {
    "colab_type": "text",
    "id": "uu2VRWLoLpRL"
   },
   "source": [
    "#### SNR for training data"
   ]
  },
  {
   "cell_type": "code",
   "execution_count": 20,
   "metadata": {
    "colab": {
     "base_uri": "https://localhost:8080/",
     "height": 34
    },
    "colab_type": "code",
    "id": "4fmEr5oRx7qn",
    "outputId": "da00bffd-76a3-41b3-bb73-36c3c61e2a6f"
   },
   "outputs": [
    {
     "name": "stdout",
     "output_type": "stream",
     "text": [
      "21.62442684173584\n"
     ]
    }
   ],
   "source": [
    "cleaned = sess.run(output, feed_dict={X: X_train})\n",
    "print(snr(cleaned, y_train))"
   ]
  },
  {
   "cell_type": "markdown",
   "metadata": {
    "colab_type": "text",
    "id": "EuVTcbjwLurA"
   },
   "source": [
    "#### SNR for validation data"
   ]
  },
  {
   "cell_type": "code",
   "execution_count": 21,
   "metadata": {
    "colab": {
     "base_uri": "https://localhost:8080/",
     "height": 34
    },
    "colab_type": "code",
    "id": "0vI15gDM4CJG",
    "outputId": "e3d282fd-b61b-49bb-ae97-c674b471aa4e"
   },
   "outputs": [
    {
     "name": "stdout",
     "output_type": "stream",
     "text": [
      "13.031316995620728\n"
     ]
    }
   ],
   "source": [
    "cleaned = sess.run(output, feed_dict={X: X_test})\n",
    "print(snr(cleaned, y_test))"
   ]
  },
  {
   "cell_type": "markdown",
   "metadata": {
    "colab_type": "text",
    "id": "O0veC1tfL2Vn"
   },
   "source": [
    "## Prediction"
   ]
  },
  {
   "cell_type": "code",
   "execution_count": 0,
   "metadata": {
    "colab": {},
    "colab_type": "code",
    "id": "v5K3AMofqVYX"
   },
   "outputs": [],
   "source": [
    "def clean_audio(filename):\n",
    "    # load audio file\n",
    "    s, sr = librosa.load(filename, sr=None)\n",
    "    \n",
    "    # apply short time fourier transform\n",
    "    dirty = librosa.stft(s, n_fft=1024, hop_length=512).T\n",
    "    \n",
    "    # take magnitudes of audio signals\n",
    "    dirty_val = np.abs(dirty)\n",
    "    \n",
    "    # run it through the neural network to remove noisy bits\n",
    "    clean_val = sess.run(output, feed_dict={X: dirty_val})\n",
    "    \n",
    "    # recover speech spectogram of the cleaned signal\n",
    "    cleaned = np.multiply(np.divide(dirty.T, dirty_val.T), clean_val.T)\n",
    "    return cleaned"
   ]
  },
  {
   "cell_type": "code",
   "execution_count": 0,
   "metadata": {
    "colab": {},
    "colab_type": "code",
    "id": "dONg6BB50RBg"
   },
   "outputs": [],
   "source": [
    "def save_audio(cleaned, to_filename):\n",
    "    # recover time domain speech signal by applying inverse short time fourier transform\n",
    "    sh_test = librosa.istft(cleaned, hop_length=512)\n",
    "    \n",
    "    # Save to a file\n",
    "    librosa.output.write_wav(to_filename, sh_test, sr)\n",
    "    print('Saved to ', to_filename)"
   ]
  },
  {
   "cell_type": "code",
   "execution_count": 24,
   "metadata": {
    "colab": {
     "base_uri": "https://localhost:8080/",
     "height": 34
    },
    "colab_type": "code",
    "id": "l_eWOBjAqqQG",
    "outputId": "623fae75-51ae-49f0-f9b3-e2a1a51dcf3d"
   },
   "outputs": [
    {
     "name": "stdout",
     "output_type": "stream",
     "text": [
      "Saved to  ./drive/My Drive/Colab Notebooks/Speech Denoising/Data/test_x_01_cleaned.wav\n"
     ]
    }
   ],
   "source": [
    "cleaned = clean_audio(base_path + 'test_x_01.wav')\n",
    "save_audio(cleaned, base_path + 'test_x_01_cleaned.wav')"
   ]
  },
  {
   "cell_type": "code",
   "execution_count": 25,
   "metadata": {
    "colab": {
     "base_uri": "https://localhost:8080/",
     "height": 34
    },
    "colab_type": "code",
    "id": "d6JDiI6qRnxh",
    "outputId": "5e726644-3497-4f12-cb39-49a960f8653b"
   },
   "outputs": [
    {
     "name": "stdout",
     "output_type": "stream",
     "text": [
      "Saved to  ./drive/My Drive/Colab Notebooks/Speech Denoising/Data/test_x_02_cleaned.wav\n"
     ]
    }
   ],
   "source": [
    "cleaned = clean_audio(base_path + 'test_x_02.wav')\n",
    "save_audio(cleaned, base_path + 'test_x_02_cleaned.wav')"
   ]
  },
  {
   "cell_type": "code",
   "execution_count": 0,
   "metadata": {
    "colab": {},
    "colab_type": "code",
    "id": "4OEFF5YriZSu"
   },
   "outputs": [],
   "source": [
    "sess.close()"
   ]
  },
  {
   "cell_type": "code",
   "execution_count": 0,
   "metadata": {
    "colab": {},
    "colab_type": "code",
    "id": "ZKIaUjMJ56iC"
   },
   "outputs": [],
   "source": []
  }
 ],
 "metadata": {
  "accelerator": "GPU",
  "colab": {
   "name": "speech-denoising.ipynb",
   "provenance": [],
   "version": "0.3.2"
  },
  "kernelspec": {
   "display_name": "Python 3",
   "language": "python",
   "name": "python3"
  },
  "language_info": {
   "codemirror_mode": {
    "name": "ipython",
    "version": 3
   },
   "file_extension": ".py",
   "mimetype": "text/x-python",
   "name": "python",
   "nbconvert_exporter": "python",
   "pygments_lexer": "ipython3",
   "version": "3.6.4"
  }
 },
 "nbformat": 4,
 "nbformat_minor": 1
}
