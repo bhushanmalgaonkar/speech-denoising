{
  "nbformat": 4,
  "nbformat_minor": 0,
  "metadata": {
    "colab": {
      "name": "speech-denoising.ipynb",
      "version": "0.3.2",
      "provenance": []
    },
    "kernelspec": {
      "name": "python3",
      "display_name": "Python 3"
    },
    "accelerator": "GPU"
  },
  "cells": [
    {
      "metadata": {
        "id": "HSRqtPzVrAPP",
        "colab_type": "code",
        "outputId": "e2e5329d-dfa0-414d-dfa8-9dac8c818b1c",
        "colab": {
          "base_uri": "https://localhost:8080/",
          "height": 122
        }
      },
      "cell_type": "code",
      "source": [
        "from google.colab import drive\n",
        "drive.mount('/content/drive')"
      ],
      "execution_count": 1,
      "outputs": [
        {
          "output_type": "stream",
          "text": [
            "Go to this URL in a browser: https://accounts.google.com/o/oauth2/auth?client_id=947318989803-6bn6qk8qdgf4n4g3pfee6491hc0brc4i.apps.googleusercontent.com&redirect_uri=urn%3Aietf%3Awg%3Aoauth%3A2.0%3Aoob&scope=email%20https%3A%2F%2Fwww.googleapis.com%2Fauth%2Fdocs.test%20https%3A%2F%2Fwww.googleapis.com%2Fauth%2Fdrive%20https%3A%2F%2Fwww.googleapis.com%2Fauth%2Fdrive.photos.readonly%20https%3A%2F%2Fwww.googleapis.com%2Fauth%2Fpeopleapi.readonly&response_type=code\n",
            "\n",
            "Enter your authorization code:\n",
            "··········\n",
            "Mounted at /content/drive\n"
          ],
          "name": "stdout"
        }
      ]
    },
    {
      "metadata": {
        "id": "hZc0BcKmrS7c",
        "colab_type": "code",
        "colab": {}
      },
      "cell_type": "code",
      "source": [
        "base_path = './drive/My Drive/Colab Notebooks/Speech Denoising/Data/'"
      ],
      "execution_count": 0,
      "outputs": []
    },
    {
      "metadata": {
        "id": "JFqSpd8QrkLB",
        "colab_type": "code",
        "outputId": "431f9524-b93e-4110-b9bf-937716f171b8",
        "colab": {
          "base_uri": "https://localhost:8080/",
          "height": 204
        }
      },
      "cell_type": "code",
      "source": [
        "!pip install librosa"
      ],
      "execution_count": 158,
      "outputs": [
        {
          "output_type": "stream",
          "text": [
            "Requirement already satisfied: librosa in /usr/local/lib/python3.6/dist-packages (0.6.2)\n",
            "Requirement already satisfied: audioread>=2.0.0 in /usr/local/lib/python3.6/dist-packages (from librosa) (2.1.6)\n",
            "Requirement already satisfied: numpy>=1.8.0 in /usr/local/lib/python3.6/dist-packages (from librosa) (1.14.6)\n",
            "Requirement already satisfied: scipy>=0.14.0 in /usr/local/lib/python3.6/dist-packages (from librosa) (1.1.0)\n",
            "Requirement already satisfied: scikit-learn!=0.19.0,>=0.14.0 in /usr/local/lib/python3.6/dist-packages (from librosa) (0.20.2)\n",
            "Requirement already satisfied: joblib>=0.12 in /usr/local/lib/python3.6/dist-packages (from librosa) (0.13.1)\n",
            "Requirement already satisfied: decorator>=3.0.0 in /usr/local/lib/python3.6/dist-packages (from librosa) (4.3.2)\n",
            "Requirement already satisfied: six>=1.3 in /usr/local/lib/python3.6/dist-packages (from librosa) (1.11.0)\n",
            "Requirement already satisfied: resampy>=0.2.0 in /usr/local/lib/python3.6/dist-packages (from librosa) (0.2.1)\n",
            "Requirement already satisfied: numba>=0.38.0 in /usr/local/lib/python3.6/dist-packages (from librosa) (0.40.1)\n",
            "Requirement already satisfied: llvmlite>=0.25.0dev0 in /usr/local/lib/python3.6/dist-packages (from numba>=0.38.0->librosa) (0.27.0)\n"
          ],
          "name": "stdout"
        }
      ]
    },
    {
      "metadata": {
        "id": "0YFHhrSMsJXv",
        "colab_type": "code",
        "colab": {}
      },
      "cell_type": "code",
      "source": [
        "import librosa"
      ],
      "execution_count": 0,
      "outputs": []
    },
    {
      "metadata": {
        "id": "bf-kDcafsM_J",
        "colab_type": "code",
        "colab": {}
      },
      "cell_type": "code",
      "source": [
        "s, sr=librosa.load(base_path + 'train_clean_male.wav', sr=None)\n",
        "train_clean=librosa.stft(s, n_fft=1024, hop_length=512).T\n",
        "sn, sr=librosa.load(base_path + 'train_dirty_male.wav', sr=None)\n",
        "train_dirty=librosa.stft(sn, n_fft=1024, hop_length=512).T"
      ],
      "execution_count": 0,
      "outputs": []
    },
    {
      "metadata": {
        "id": "_-ZIRvuJshRs",
        "colab_type": "code",
        "colab": {}
      },
      "cell_type": "code",
      "source": [
        "from sklearn.model_selection import train_test_split\n",
        "import numpy as np\n",
        "import seaborn as sns\n",
        "import matplotlib.pyplot as plt\n",
        "%matplotlib inline"
      ],
      "execution_count": 0,
      "outputs": []
    },
    {
      "metadata": {
        "id": "_6yPxpcSxj7p",
        "colab_type": "code",
        "colab": {
          "base_uri": "https://localhost:8080/",
          "height": 34
        },
        "outputId": "62b97df8-2c2b-4bc6-fe9f-f8184d9adf00"
      },
      "cell_type": "code",
      "source": [
        "train_clean.shape"
      ],
      "execution_count": 162,
      "outputs": [
        {
          "output_type": "execute_result",
          "data": {
            "text/plain": [
              "(2459, 513)"
            ]
          },
          "metadata": {
            "tags": []
          },
          "execution_count": 162
        }
      ]
    },
    {
      "metadata": {
        "id": "ibntyFjOmXLS",
        "colab_type": "code",
        "colab": {}
      },
      "cell_type": "code",
      "source": [
        "import tensorflow as tf"
      ],
      "execution_count": 0,
      "outputs": []
    },
    {
      "metadata": {
        "id": "1YIk9cY7xcYJ",
        "colab_type": "code",
        "colab": {}
      },
      "cell_type": "code",
      "source": [
        ""
      ],
      "execution_count": 0,
      "outputs": []
    },
    {
      "metadata": {
        "id": "_slk67wcs5cU",
        "colab_type": "code",
        "colab": {}
      },
      "cell_type": "code",
      "source": [
        "train_clean_val = np.abs(train_clean)\n",
        "train_dirty_val = np.abs(train_dirty)"
      ],
      "execution_count": 0,
      "outputs": []
    },
    {
      "metadata": {
        "id": "tWshm3Pal3Q0",
        "colab_type": "code",
        "colab": {
          "base_uri": "https://localhost:8080/",
          "height": 51
        },
        "outputId": "33dd1dd1-c968-4342-d879-0b99f2d7deeb"
      },
      "cell_type": "code",
      "source": [
        "print(f'min(train_clean_val) = {np.min(train_clean_val)}, max(train_clean_val) = {np.max(train_clean_val)}')\n",
        "print(f'min(train_dirty_val) = {np.min(train_dirty_val)}, max(train_dirty_val) = {np.max(train_dirty_val)}')"
      ],
      "execution_count": 178,
      "outputs": [
        {
          "output_type": "stream",
          "text": [
            "min(train_clean_val) = 2.724569583278935e-07, max(train_clean_val) = 31.574600219726562\n",
            "min(train_dirty_val) = 3.297913409028297e-08, max(train_dirty_val) = 31.603910446166992\n"
          ],
          "name": "stdout"
        }
      ]
    },
    {
      "metadata": {
        "id": "Rc4PTfip8ySC",
        "colab_type": "code",
        "colab": {}
      },
      "cell_type": "code",
      "source": [
        "X_train, X_test, y_train, y_test = train_test_split(train_dirty_val, train_clean_val, test_size=0.2)"
      ],
      "execution_count": 0,
      "outputs": []
    },
    {
      "metadata": {
        "id": "cA6eDgEXmj61",
        "colab_type": "code",
        "colab": {}
      },
      "cell_type": "code",
      "source": [
        "# Build neural network\n",
        "X = tf.placeholder(dtype='float', shape=[None, 513])\n",
        "y = tf.placeholder(dtype='float', shape=[None, 513])\n",
        "\n",
        "in_units = 513\n",
        "h1_units = 500\n",
        "h2_units = 500\n",
        "h3_units = 500\n",
        "h4_units = 500\n",
        "out_units = 513\n",
        "\n",
        "# He initializer: mean = 0.0, stddev = sqrt(2/#in_nodes)\n",
        "weights = {\n",
        "    'w1': tf.Variable(dtype='float', initial_value=tf.random_normal(shape=[in_units, h1_units], mean=0.0, stddev=np.sqrt(2/in_units))),\n",
        "    'w2': tf.Variable(dtype='float', initial_value=tf.random_normal(shape=[h1_units, h2_units], mean=0.0, stddev=np.sqrt(2/h1_units))),\n",
        "    'w3': tf.Variable(dtype='float', initial_value=tf.random_normal(shape=[h2_units, h3_units], mean=0.0, stddev=np.sqrt(2/h2_units))),\n",
        "    'w4': tf.Variable(dtype='float', initial_value=tf.random_normal(shape=[h3_units, h3_units], mean=0.0, stddev=np.sqrt(2/h3_units))),\n",
        "    'out': tf.Variable(dtype='float', initial_value=tf.random_normal(shape=[h4_units, out_units], mean=0.0, stddev=np.sqrt(2/h4_units))),\n",
        "}\n",
        "\n",
        "bias_initial_value = 0.01\n",
        "biases = {\n",
        "    'b1': tf.Variable(initial_value=tf.ones([h1_units]) * bias_initial_value),\n",
        "    'b2': tf.Variable(initial_value=tf.ones([h2_units]) * bias_initial_value),\n",
        "    'b3': tf.Variable(initial_value=tf.ones([h3_units]) * bias_initial_value),\n",
        "    'b4': tf.Variable(initial_value=tf.ones([h4_units]) * bias_initial_value),\n",
        "    'out': tf.Variable(initial_value=tf.ones([out_units]) * bias_initial_value)\n",
        "}"
      ],
      "execution_count": 0,
      "outputs": []
    },
    {
      "metadata": {
        "id": "8bhXFbA9nTAF",
        "colab_type": "code",
        "colab": {}
      },
      "cell_type": "code",
      "source": [
        "beta = 0.000\n",
        "\n",
        "z1 = tf.add(tf.matmul(X, weights['w1']), biases['b1'])\n",
        "a1 = tf.nn.relu(z1)\n",
        "\n",
        "z2 = tf.add(tf.matmul(a1, weights['w2']), biases['b2'])\n",
        "a2 = tf.nn.relu(z2)\n",
        "\n",
        "z3 = tf.add(tf.matmul(a2, weights['w3']), biases['b3'])\n",
        "a3 = tf.nn.relu(z3)\n",
        "\n",
        "z4 = tf.add(tf.matmul(a2, weights['w3']), biases['b3'])\n",
        "a4 = tf.nn.relu(z4)\n",
        "\n",
        "logits = tf.add(tf.matmul(a4, weights['out']), biases['out'])\n",
        "output = tf.nn.relu(logits)\n",
        "\n",
        "regularizers = tf.nn.l2_loss(weights['w1']) + tf.nn.l2_loss(weights['w2']) + tf.nn.l2_loss(weights['w3']) + tf.nn.l2_loss(weights['out'])\n",
        "mse = tf.losses.mean_squared_error(labels=y, predictions=output)\n",
        "loss = tf.reduce_mean(mse + beta * regularizers)\n",
        "\n",
        "optimizer = tf.train.AdamOptimizer(learning_rate=0.001)\n",
        "\n",
        "train = optimizer.minimize(loss=loss)\n",
        "\n",
        "# calculate accuracy\n",
        "correct = tf.equal(tf.argmax(input=logits, axis=1), tf.argmax(input=y, axis=1))\n",
        "accuracy = tf.reduce_mean(tf.cast(dtype='float', x=correct))\n",
        "\n",
        "init = tf.global_variables_initializer()"
      ],
      "execution_count": 0,
      "outputs": []
    },
    {
      "metadata": {
        "id": "so4uXh7Bni3K",
        "colab_type": "code",
        "colab": {
          "base_uri": "https://localhost:8080/",
          "height": 697
        },
        "outputId": "1b2c0bc8-b023-4b0d-c597-7058df1ffd08"
      },
      "cell_type": "code",
      "source": [
        "batch_size = 1000\n",
        "total_samples = X_train.shape[0]\n",
        "\n",
        "train_acc, test_acc = [], []\n",
        "train_loss, test_loss = [], []\n",
        "\n",
        "sess = tf.Session()\n",
        "  \n",
        "sess.run(init)\n",
        "for epoch in range(1, 10001):\n",
        "  for itr in range(total_samples//batch_size + 1):\n",
        "    start_idx = itr * batch_size\n",
        "    end_idx = min((itr + 1) * batch_size, total_samples)\n",
        "    batch_x, batch_y = X_train[start_idx:end_idx, :], y_train[start_idx:end_idx, :]\n",
        "    sess.run(train, feed_dict={X: batch_x, y: batch_y})\n",
        "    \n",
        "  if epoch % 10 == 0:\n",
        "    trls, trac = sess.run([loss, accuracy], feed_dict={X: batch_x, y: batch_y})\n",
        "    tsls, tsac = sess.run([loss, accuracy], feed_dict={X: X_test, y: y_test})\n",
        "#     plot_weight_distribution(weights)\n",
        "    \n",
        "    train_acc.append(trac)\n",
        "    test_acc.append(tsac)\n",
        "    train_loss.append(trls)\n",
        "    test_loss.append(tsls)\n",
        "    \n",
        "    if epoch % 1000 == 0:\n",
        "      print(f'Epoch:{epoch}')\n",
        "      print(f'Train set:\\tLoss:{trls:.4f},\\tAccuracy:{trac:.4f}')\n",
        "      print(f'Test set:\\tLoss:{tsls:.4f},\\tAccuracy:{tsac:.4f}\\n')"
      ],
      "execution_count": 220,
      "outputs": [
        {
          "output_type": "stream",
          "text": [
            "Epoch:1000\n",
            "Train set:\tLoss:0.0039,\tAccuracy:0.6122\n",
            "Test set:\tLoss:0.0085,\tAccuracy:0.4654\n",
            "\n",
            "Epoch:2000\n",
            "Train set:\tLoss:0.0036,\tAccuracy:0.6598\n",
            "Test set:\tLoss:0.0084,\tAccuracy:0.4614\n",
            "\n",
            "Epoch:3000\n",
            "Train set:\tLoss:0.0033,\tAccuracy:0.6701\n",
            "Test set:\tLoss:0.0084,\tAccuracy:0.4593\n",
            "\n",
            "Epoch:4000\n",
            "Train set:\tLoss:0.0030,\tAccuracy:0.6836\n",
            "Test set:\tLoss:0.0083,\tAccuracy:0.4593\n",
            "\n",
            "Epoch:5000\n",
            "Train set:\tLoss:0.0028,\tAccuracy:0.7001\n",
            "Test set:\tLoss:0.0083,\tAccuracy:0.4553\n",
            "\n",
            "Epoch:6000\n",
            "Train set:\tLoss:0.0026,\tAccuracy:0.7094\n",
            "Test set:\tLoss:0.0083,\tAccuracy:0.4614\n",
            "\n",
            "Epoch:7000\n",
            "Train set:\tLoss:0.0026,\tAccuracy:0.7084\n",
            "Test set:\tLoss:0.0084,\tAccuracy:0.4573\n",
            "\n",
            "Epoch:8000\n",
            "Train set:\tLoss:0.0024,\tAccuracy:0.7363\n",
            "Test set:\tLoss:0.0084,\tAccuracy:0.4573\n",
            "\n",
            "Epoch:9000\n",
            "Train set:\tLoss:0.0023,\tAccuracy:0.7322\n",
            "Test set:\tLoss:0.0084,\tAccuracy:0.4573\n",
            "\n",
            "Epoch:10000\n",
            "Train set:\tLoss:0.0022,\tAccuracy:0.7415\n",
            "Test set:\tLoss:0.0084,\tAccuracy:0.4533\n",
            "\n"
          ],
          "name": "stdout"
        }
      ]
    },
    {
      "metadata": {
        "id": "fMPLGC-knyvZ",
        "colab_type": "code",
        "colab": {
          "base_uri": "https://localhost:8080/",
          "height": 282
        },
        "outputId": "d00e1480-8a80-44b0-e861-521414ec8cae"
      },
      "cell_type": "code",
      "source": [
        "plt.plot(train_loss)\n",
        "plt.plot(test_loss)\n",
        "plt.legend(['train', 'test'])"
      ],
      "execution_count": 221,
      "outputs": [
        {
          "output_type": "execute_result",
          "data": {
            "text/plain": [
              "<matplotlib.legend.Legend at 0x7f6388a8ceb8>"
            ]
          },
          "metadata": {
            "tags": []
          },
          "execution_count": 221
        },
        {
          "output_type": "display_data",
          "data": {
            "image/png": "[encoded data removed]",
            "text/plain": [
              "<Figure size 432x288 with 1 Axes>"
            ]
          },
          "metadata": {
            "tags": []
          }
        }
      ]
    },
    {
      "metadata": {
        "id": "HnoR_DwXuQb2",
        "colab_type": "code",
        "colab": {}
      },
      "cell_type": "code",
      "source": [
        ""
      ],
      "execution_count": 0,
      "outputs": []
    },
    {
      "metadata": {
        "id": "xhSisnJCoQDn",
        "colab_type": "code",
        "colab": {}
      },
      "cell_type": "code",
      "source": [
        "clean_Sv = sess.run(output, feed_dict={X: train_dirty_val, y: train_clean_val})"
      ],
      "execution_count": 0,
      "outputs": []
    },
    {
      "metadata": {
        "id": "882W7hfMqTDv",
        "colab_type": "code",
        "colab": {
          "base_uri": "https://localhost:8080/",
          "height": 34
        },
        "outputId": "3e44be9e-82f8-4b5a-9aa3-8db95641323c"
      },
      "cell_type": "code",
      "source": [
        "clean_Sv.shape"
      ],
      "execution_count": 232,
      "outputs": [
        {
          "output_type": "execute_result",
          "data": {
            "text/plain": [
              "(2459, 513)"
            ]
          },
          "metadata": {
            "tags": []
          },
          "execution_count": 232
        }
      ]
    },
    {
      "metadata": {
        "id": "3NuTGX5UTL-L",
        "colab_type": "code",
        "colab": {
          "base_uri": "https://localhost:8080/",
          "height": 622
        },
        "outputId": "733baf5e-4711-468b-bbc2-0bdac29058a3"
      },
      "cell_type": "code",
      "source": [
        "s, sr = librosa.load(base_path + 'test_x_01.wav', sr=None)\n",
        "test1_dirty = librosa.stft(s, n_fft=1024, hop_length=512).T\n",
        "test1_dirty_val = np.abs(test1_clean)\n",
        "test1_clean_val = sess.run(output, feed_dict={X: test1_dirty_val})\n",
        "save_audio(test1_clean.T, test1_clean_val.T, test1_clean_val.T, base_path+'output.wav')"
      ],
      "execution_count": 235,
      "outputs": [
        {
          "output_type": "stream",
          "text": [
            "/usr/local/lib/python3.6/dist-packages/ipykernel_launcher.py:2: RuntimeWarning: divide by zero encountered in true_divide\n",
            "  \n",
            "/usr/local/lib/python3.6/dist-packages/ipykernel_launcher.py:2: RuntimeWarning: invalid value encountered in true_divide\n",
            "  \n",
            "/usr/local/lib/python3.6/dist-packages/ipykernel_launcher.py:2: RuntimeWarning: invalid value encountered in multiply\n",
            "  \n"
          ],
          "name": "stderr"
        },
        {
          "output_type": "error",
          "ename": "ParameterError",
          "evalue": "ignored",
          "traceback": [
            "\u001b[0;31m---------------------------------------------------------------------------\u001b[0m",
            "\u001b[0;31mParameterError\u001b[0m                            Traceback (most recent call last)",
            "\u001b[0;32m<ipython-input-235-83a29aa56f6c>\u001b[0m in \u001b[0;36m<module>\u001b[0;34m()\u001b[0m\n\u001b[1;32m      3\u001b[0m \u001b[0mtest1_dirty_val\u001b[0m \u001b[0;34m=\u001b[0m \u001b[0mnp\u001b[0m\u001b[0;34m.\u001b[0m\u001b[0mabs\u001b[0m\u001b[0;34m(\u001b[0m\u001b[0mtest1_clean\u001b[0m\u001b[0;34m)\u001b[0m\u001b[0;34m\u001b[0m\u001b[0;34m\u001b[0m\u001b[0m\n\u001b[1;32m      4\u001b[0m \u001b[0mtest1_clean_val\u001b[0m \u001b[0;34m=\u001b[0m \u001b[0msess\u001b[0m\u001b[0;34m.\u001b[0m\u001b[0mrun\u001b[0m\u001b[0;34m(\u001b[0m\u001b[0moutput\u001b[0m\u001b[0;34m,\u001b[0m \u001b[0mfeed_dict\u001b[0m\u001b[0;34m=\u001b[0m\u001b[0;34m{\u001b[0m\u001b[0mX\u001b[0m\u001b[0;34m:\u001b[0m \u001b[0mtest1_dirty_val\u001b[0m\u001b[0;34m}\u001b[0m\u001b[0;34m)\u001b[0m\u001b[0;34m\u001b[0m\u001b[0;34m\u001b[0m\u001b[0m\n\u001b[0;32m----> 5\u001b[0;31m \u001b[0msave_audio\u001b[0m\u001b[0;34m(\u001b[0m\u001b[0mtest1_clean\u001b[0m\u001b[0;34m.\u001b[0m\u001b[0mT\u001b[0m\u001b[0;34m,\u001b[0m \u001b[0mtest1_clean_val\u001b[0m\u001b[0;34m.\u001b[0m\u001b[0mT\u001b[0m\u001b[0;34m,\u001b[0m \u001b[0mtest1_clean_val\u001b[0m\u001b[0;34m.\u001b[0m\u001b[0mT\u001b[0m\u001b[0;34m,\u001b[0m \u001b[0mbase_path\u001b[0m\u001b[0;34m+\u001b[0m\u001b[0;34m'output.wav'\u001b[0m\u001b[0;34m)\u001b[0m\u001b[0;34m\u001b[0m\u001b[0;34m\u001b[0m\u001b[0m\n\u001b[0m",
            "\u001b[0;32m<ipython-input-227-c8e02e3c7968>\u001b[0m in \u001b[0;36msave_audio\u001b[0;34m(X, modX, S, filename)\u001b[0m\n\u001b[1;32m      2\u001b[0m     \u001b[0mresult\u001b[0m \u001b[0;34m=\u001b[0m \u001b[0mnp\u001b[0m\u001b[0;34m.\u001b[0m\u001b[0mmultiply\u001b[0m\u001b[0;34m(\u001b[0m\u001b[0mnp\u001b[0m\u001b[0;34m.\u001b[0m\u001b[0mdivide\u001b[0m\u001b[0;34m(\u001b[0m\u001b[0mX\u001b[0m\u001b[0;34m,\u001b[0m \u001b[0mmodX\u001b[0m\u001b[0;34m)\u001b[0m\u001b[0;34m,\u001b[0m \u001b[0mS\u001b[0m\u001b[0;34m)\u001b[0m\u001b[0;34m\u001b[0m\u001b[0;34m\u001b[0m\u001b[0m\n\u001b[1;32m      3\u001b[0m     \u001b[0msh_test\u001b[0m \u001b[0;34m=\u001b[0m \u001b[0mlibrosa\u001b[0m\u001b[0;34m.\u001b[0m\u001b[0mistft\u001b[0m\u001b[0;34m(\u001b[0m\u001b[0mresult\u001b[0m\u001b[0;34m,\u001b[0m \u001b[0mhop_length\u001b[0m\u001b[0;34m=\u001b[0m\u001b[0;36m512\u001b[0m\u001b[0;34m)\u001b[0m\u001b[0;34m\u001b[0m\u001b[0;34m\u001b[0m\u001b[0m\n\u001b[0;32m----> 4\u001b[0;31m     \u001b[0mlibrosa\u001b[0m\u001b[0;34m.\u001b[0m\u001b[0moutput\u001b[0m\u001b[0;34m.\u001b[0m\u001b[0mwrite_wav\u001b[0m\u001b[0;34m(\u001b[0m\u001b[0mfilename\u001b[0m\u001b[0;34m,\u001b[0m \u001b[0msh_test\u001b[0m\u001b[0;34m,\u001b[0m \u001b[0msr\u001b[0m\u001b[0;34m)\u001b[0m\u001b[0;34m\u001b[0m\u001b[0;34m\u001b[0m\u001b[0m\n\u001b[0m",
            "\u001b[0;32m/usr/local/lib/python3.6/dist-packages/librosa/output.py\u001b[0m in \u001b[0;36mwrite_wav\u001b[0;34m(path, y, sr, norm)\u001b[0m\n\u001b[1;32m    221\u001b[0m \u001b[0;34m\u001b[0m\u001b[0m\n\u001b[1;32m    222\u001b[0m     \u001b[0;31m# Validate the buffer.  Stereo is okay here.\u001b[0m\u001b[0;34m\u001b[0m\u001b[0;34m\u001b[0m\u001b[0;34m\u001b[0m\u001b[0m\n\u001b[0;32m--> 223\u001b[0;31m     \u001b[0mutil\u001b[0m\u001b[0;34m.\u001b[0m\u001b[0mvalid_audio\u001b[0m\u001b[0;34m(\u001b[0m\u001b[0my\u001b[0m\u001b[0;34m,\u001b[0m \u001b[0mmono\u001b[0m\u001b[0;34m=\u001b[0m\u001b[0;32mFalse\u001b[0m\u001b[0;34m)\u001b[0m\u001b[0;34m\u001b[0m\u001b[0;34m\u001b[0m\u001b[0m\n\u001b[0m\u001b[1;32m    224\u001b[0m \u001b[0;34m\u001b[0m\u001b[0m\n\u001b[1;32m    225\u001b[0m     \u001b[0;31m# normalize\u001b[0m\u001b[0;34m\u001b[0m\u001b[0;34m\u001b[0m\u001b[0;34m\u001b[0m\u001b[0m\n",
            "\u001b[0;32m/usr/local/lib/python3.6/dist-packages/librosa/util/utils.py\u001b[0m in \u001b[0;36mvalid_audio\u001b[0;34m(y, mono)\u001b[0m\n\u001b[1;32m    168\u001b[0m \u001b[0;34m\u001b[0m\u001b[0m\n\u001b[1;32m    169\u001b[0m     \u001b[0;32mif\u001b[0m \u001b[0;32mnot\u001b[0m \u001b[0mnp\u001b[0m\u001b[0;34m.\u001b[0m\u001b[0misfinite\u001b[0m\u001b[0;34m(\u001b[0m\u001b[0my\u001b[0m\u001b[0;34m)\u001b[0m\u001b[0;34m.\u001b[0m\u001b[0mall\u001b[0m\u001b[0;34m(\u001b[0m\u001b[0;34m)\u001b[0m\u001b[0;34m:\u001b[0m\u001b[0;34m\u001b[0m\u001b[0;34m\u001b[0m\u001b[0m\n\u001b[0;32m--> 170\u001b[0;31m         \u001b[0;32mraise\u001b[0m \u001b[0mParameterError\u001b[0m\u001b[0;34m(\u001b[0m\u001b[0;34m'Audio buffer is not finite everywhere'\u001b[0m\u001b[0;34m)\u001b[0m\u001b[0;34m\u001b[0m\u001b[0;34m\u001b[0m\u001b[0m\n\u001b[0m\u001b[1;32m    171\u001b[0m \u001b[0;34m\u001b[0m\u001b[0m\n\u001b[1;32m    172\u001b[0m     \u001b[0;32mreturn\u001b[0m \u001b[0;32mTrue\u001b[0m\u001b[0;34m\u001b[0m\u001b[0;34m\u001b[0m\u001b[0m\n",
            "\u001b[0;31mParameterError\u001b[0m: Audio buffer is not finite everywhere"
          ]
        }
      ]
    },
    {
      "metadata": {
        "id": "v5K3AMofqVYX",
        "colab_type": "code",
        "colab": {}
      },
      "cell_type": "code",
      "source": [
        "def save_audio(X, modX, S, filename):\n",
        "    result = np.multiply(np.divide(X, modX), S)\n",
        "    sh_test = librosa.istft(result, hop_length=512)\n",
        "    librosa.output.write_wav(filename, sh_test, sr)"
      ],
      "execution_count": 0,
      "outputs": []
    },
    {
      "metadata": {
        "id": "l_eWOBjAqqQG",
        "colab_type": "code",
        "colab": {}
      },
      "cell_type": "code",
      "source": [
        "save_audio(train_dirty.T, train_dirty_val.T, clean_Sv.T, base_path+'output.wav')"
      ],
      "execution_count": 0,
      "outputs": []
    },
    {
      "metadata": {
        "id": "dgqWUUduyZos",
        "colab_type": "code",
        "colab": {
          "base_uri": "https://localhost:8080/",
          "height": 34
        },
        "outputId": "6f6b2669-d2db-456e-fc11-4ef271c8961b"
      },
      "cell_type": "code",
      "source": [
        "train_dirty.shape, train_dirty_val.shape, clean_Sv.shape"
      ],
      "execution_count": 141,
      "outputs": [
        {
          "output_type": "execute_result",
          "data": {
            "text/plain": [
              "((513, 2459), (513, 2459), (2459, 513))"
            ]
          },
          "metadata": {
            "tags": []
          },
          "execution_count": 141
        }
      ]
    },
    {
      "metadata": {
        "id": "O9UPB3s92NR9",
        "colab_type": "code",
        "colab": {
          "base_uri": "https://localhost:8080/",
          "height": 442
        },
        "outputId": "eb4a5718-0c70-460e-aaa4-421df0a7b96c"
      },
      "cell_type": "code",
      "source": [
        "train_dirty"
      ],
      "execution_count": 231,
      "outputs": [
        {
          "output_type": "execute_result",
          "data": {
            "text/plain": [
              "array([[ 1.29152825e-02+0.0000000e+00j, -7.06597278e-03-1.0839904e-18j,\n",
              "         3.11613153e-03+2.8036791e-19j, ...,\n",
              "         5.43509632e-05-4.9720834e-19j, -4.78351954e-04+6.3675702e-19j,\n",
              "         6.20555074e-04+0.0000000e+00j],\n",
              "       [ 8.45048483e-03+0.0000000e+00j, -6.94738980e-03+5.1884386e-03j,\n",
              "        -1.59678720e-02-1.7763563e-02j, ...,\n",
              "        -4.15163022e-03-1.1022503e-03j,  2.63221073e-03-1.5408223e-03j,\n",
              "        -3.61816579e-04+0.0000000e+00j],\n",
              "       [-2.07481943e-02+0.0000000e+00j,  2.39305142e-02+3.3414264e-03j,\n",
              "         8.85831192e-03+8.3497362e-03j, ...,\n",
              "         1.19022408e-03-2.0613750e-03j,  7.62302428e-04+5.9353854e-03j,\n",
              "        -1.19814684e-03+0.0000000e+00j],\n",
              "       ...,\n",
              "       [-1.52135687e-02+0.0000000e+00j,  1.20950164e-02-9.4868029e-03j,\n",
              "        -1.23670641e-02+5.9306147e-03j, ...,\n",
              "         5.36997162e-04+7.6431502e-04j, -3.81498365e-03-6.0208812e-03j,\n",
              "         1.59274472e-03+0.0000000e+00j],\n",
              "       [-4.98118671e-03+0.0000000e+00j, -3.12095246e-04-1.4751647e-03j,\n",
              "         7.67358765e-03+2.1299278e-02j, ...,\n",
              "        -1.19794244e-02+7.1640010e-03j,  5.79493213e-03-3.9956453e-03j,\n",
              "        -4.55778325e-04+0.0000000e+00j],\n",
              "       [-7.75823556e-03+0.0000000e+00j,  1.96925160e-02+6.0344348e-03j,\n",
              "        -2.82987002e-02+3.5692996e-04j, ...,\n",
              "        -9.00672283e-03-8.2842866e-03j,  1.48106953e-02+1.0228334e-02j,\n",
              "        -1.60748102e-02+0.0000000e+00j]], dtype=complex64)"
            ]
          },
          "metadata": {
            "tags": []
          },
          "execution_count": 231
        }
      ]
    },
    {
      "metadata": {
        "id": "d6JDiI6qRnxh",
        "colab_type": "code",
        "colab": {}
      },
      "cell_type": "code",
      "source": [
        ""
      ],
      "execution_count": 0,
      "outputs": []
    }
  ]
}