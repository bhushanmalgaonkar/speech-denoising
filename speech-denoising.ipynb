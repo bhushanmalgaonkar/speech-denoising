{
  "nbformat": 4,
  "nbformat_minor": 0,
  "metadata": {
    "colab": {
      "name": "speech-denoising.ipynb",
      "version": "0.3.2",
      "provenance": []
    },
    "kernelspec": {
      "name": "python3",
      "display_name": "Python 3"
    },
    "accelerator": "GPU"
  },
  "cells": [
    {
      "metadata": {
        "id": "HSRqtPzVrAPP",
        "colab_type": "code",
        "outputId": "00e5c0db-8c0c-4882-86ed-3a9ac50aac6b",
        "colab": {
          "base_uri": "https://localhost:8080/",
          "height": 54
        }
      },
      "cell_type": "code",
      "source": [
        "from google.colab import drive\n",
        "drive.mount('/content/drive')"
      ],
      "execution_count": 115,
      "outputs": [
        {
          "output_type": "stream",
          "text": [
            "Drive already mounted at /content/drive; to attempt to forcibly remount, call drive.mount(\"/content/drive\", force_remount=True).\n"
          ],
          "name": "stdout"
        }
      ]
    },
    {
      "metadata": {
        "id": "hZc0BcKmrS7c",
        "colab_type": "code",
        "colab": {}
      },
      "cell_type": "code",
      "source": [
        "base_path = './drive/My Drive/Colab Notebooks/Speech Denoising/Data/'"
      ],
      "execution_count": 0,
      "outputs": []
    },
    {
      "metadata": {
        "id": "JFqSpd8QrkLB",
        "colab_type": "code",
        "outputId": "f4881adc-da0d-48fe-8898-6e02be0c5c3a",
        "colab": {
          "base_uri": "https://localhost:8080/",
          "height": 598
        }
      },
      "cell_type": "code",
      "source": [
        "!pip install librosa"
      ],
      "execution_count": 76,
      "outputs": [
        {
          "output_type": "stream",
          "text": [
            "Requirement already satisfied: librosa in /usr/local/lib/python3.6/dist-packages (0.6.2)\n",
            "Requirement already satisfied: audioread>=2.0.0 in /usr/local/lib/python3.6/dist-packages (from librosa) (2.1.6)\n",
            "Requirement already satisfied: numpy>=1.8.0 in /usr/local/lib/python3.6/dist-packages (from librosa) (1.14.6)\n",
            "Requirement already satisfied: scipy>=0.14.0 in /usr/local/lib/python3.6/dist-packages (from librosa) (1.1.0)\n",
            "Requirement already satisfied: scikit-learn!=0.19.0,>=0.14.0 in /usr/local/lib/python3.6/dist-packages (from librosa) (0.20.2)\n",
            "Requirement already satisfied: joblib>=0.12 in /usr/local/lib/python3.6/dist-packages (from librosa) (0.13.1)\n",
            "Requirement already satisfied: decorator>=3.0.0 in /usr/local/lib/python3.6/dist-packages (from librosa) (4.3.2)\n",
            "Requirement already satisfied: six>=1.3 in /usr/local/lib/python3.6/dist-packages (from librosa) (1.11.0)\n",
            "Requirement already satisfied: resampy>=0.2.0 in /usr/local/lib/python3.6/dist-packages (from librosa) (0.2.1)\n",
            "Requirement already satisfied: numba>=0.38.0 in /usr/local/lib/python3.6/dist-packages (from librosa) (0.40.1)\n",
            "Requirement already satisfied: llvmlite>=0.25.0dev0 in /usr/local/lib/python3.6/dist-packages (from numba>=0.38.0->librosa) (0.27.0)\n",
            "Requirement already satisfied: librosa in /usr/local/lib/python3.6/dist-packages (0.6.2)\n",
            "Requirement already satisfied: audioread>=2.0.0 in /usr/local/lib/python3.6/dist-packages (from librosa) (2.1.6)\n",
            "Requirement already satisfied: numpy>=1.8.0 in /usr/local/lib/python3.6/dist-packages (from librosa) (1.14.6)\n",
            "Requirement already satisfied: scipy>=0.14.0 in /usr/local/lib/python3.6/dist-packages (from librosa) (1.1.0)\n",
            "Requirement already satisfied: scikit-learn!=0.19.0,>=0.14.0 in /usr/local/lib/python3.6/dist-packages (from librosa) (0.20.2)\n",
            "Requirement already satisfied: joblib>=0.12 in /usr/local/lib/python3.6/dist-packages (from librosa) (0.13.1)\n",
            "Requirement already satisfied: decorator>=3.0.0 in /usr/local/lib/python3.6/dist-packages (from librosa) (4.3.2)\n",
            "Requirement already satisfied: six>=1.3 in /usr/local/lib/python3.6/dist-packages (from librosa) (1.11.0)\n",
            "Requirement already satisfied: resampy>=0.2.0 in /usr/local/lib/python3.6/dist-packages (from librosa) (0.2.1)\n",
            "Requirement already satisfied: numba>=0.38.0 in /usr/local/lib/python3.6/dist-packages (from librosa) (0.40.1)\n",
            "Requirement already satisfied: llvmlite>=0.25.0dev0 in /usr/local/lib/python3.6/dist-packages (from numba>=0.38.0->librosa) (0.27.0)\n",
            "Requirement already satisfied: librosa in /usr/local/lib/python3.6/dist-packages (0.6.2)\n",
            "Requirement already satisfied: audioread>=2.0.0 in /usr/local/lib/python3.6/dist-packages (from librosa) (2.1.6)\n",
            "Requirement already satisfied: numpy>=1.8.0 in /usr/local/lib/python3.6/dist-packages (from librosa) (1.14.6)\n",
            "Requirement already satisfied: scipy>=0.14.0 in /usr/local/lib/python3.6/dist-packages (from librosa) (1.1.0)\n",
            "Requirement already satisfied: scikit-learn!=0.19.0,>=0.14.0 in /usr/local/lib/python3.6/dist-packages (from librosa) (0.20.2)\n",
            "Requirement already satisfied: joblib>=0.12 in /usr/local/lib/python3.6/dist-packages (from librosa) (0.13.1)\n",
            "Requirement already satisfied: decorator>=3.0.0 in /usr/local/lib/python3.6/dist-packages (from librosa) (4.3.2)\n",
            "Requirement already satisfied: six>=1.3 in /usr/local/lib/python3.6/dist-packages (from librosa) (1.11.0)\n",
            "Requirement already satisfied: resampy>=0.2.0 in /usr/local/lib/python3.6/dist-packages (from librosa) (0.2.1)\n",
            "Requirement already satisfied: numba>=0.38.0 in /usr/local/lib/python3.6/dist-packages (from librosa) (0.40.1)\n",
            "Requirement already satisfied: llvmlite>=0.25.0dev0 in /usr/local/lib/python3.6/dist-packages (from numba>=0.38.0->librosa) (0.27.0)\n"
          ],
          "name": "stdout"
        }
      ]
    },
    {
      "metadata": {
        "id": "0YFHhrSMsJXv",
        "colab_type": "code",
        "colab": {}
      },
      "cell_type": "code",
      "source": [
        "import librosa"
      ],
      "execution_count": 0,
      "outputs": []
    },
    {
      "metadata": {
        "id": "bf-kDcafsM_J",
        "colab_type": "code",
        "colab": {}
      },
      "cell_type": "code",
      "source": [
        "s, sr=librosa.load(base_path + 'train_clean_male.wav', sr=None)\n",
        "train_clean=librosa.stft(s, n_fft=1024, hop_length=512).T\n",
        "sn, sr=librosa.load(base_path + 'train_dirty_male.wav', sr=None)\n",
        "train_dirty=librosa.stft(sn, n_fft=1024, hop_length=512).T"
      ],
      "execution_count": 0,
      "outputs": []
    },
    {
      "metadata": {
        "id": "_-ZIRvuJshRs",
        "colab_type": "code",
        "colab": {}
      },
      "cell_type": "code",
      "source": [
        "from sklearn.model_selection import train_test_split\n",
        "import numpy as np\n",
        "import seaborn as sns\n",
        "import matplotlib.pyplot as plt\n",
        "%matplotlib inline"
      ],
      "execution_count": 0,
      "outputs": []
    },
    {
      "metadata": {
        "id": "_6yPxpcSxj7p",
        "colab_type": "code",
        "outputId": "00011954-1c77-4b2f-b95b-a3855ee53f26",
        "colab": {
          "base_uri": "https://localhost:8080/",
          "height": 34
        }
      },
      "cell_type": "code",
      "source": [
        "train_clean.shape"
      ],
      "execution_count": 80,
      "outputs": [
        {
          "output_type": "execute_result",
          "data": {
            "text/plain": [
              "(2459, 513)"
            ]
          },
          "metadata": {
            "tags": []
          },
          "execution_count": 41
        },
        {
          "output_type": "execute_result",
          "data": {
            "text/plain": [
              "(2459, 513)"
            ]
          },
          "metadata": {
            "tags": []
          },
          "execution_count": 60
        },
        {
          "output_type": "execute_result",
          "data": {
            "text/plain": [
              "(2459, 513)"
            ]
          },
          "metadata": {
            "tags": []
          },
          "execution_count": 80
        }
      ]
    },
    {
      "metadata": {
        "id": "ibntyFjOmXLS",
        "colab_type": "code",
        "colab": {}
      },
      "cell_type": "code",
      "source": [
        "import tensorflow as tf"
      ],
      "execution_count": 0,
      "outputs": []
    },
    {
      "metadata": {
        "id": "1YIk9cY7xcYJ",
        "colab_type": "code",
        "colab": {}
      },
      "cell_type": "code",
      "source": [
        ""
      ],
      "execution_count": 0,
      "outputs": []
    },
    {
      "metadata": {
        "id": "_slk67wcs5cU",
        "colab_type": "code",
        "colab": {}
      },
      "cell_type": "code",
      "source": [
        "train_clean_val = np.abs(train_clean)\n",
        "train_dirty_val = np.abs(train_dirty)"
      ],
      "execution_count": 0,
      "outputs": []
    },
    {
      "metadata": {
        "id": "tWshm3Pal3Q0",
        "colab_type": "code",
        "outputId": "10bfc44f-eba6-4277-e3e2-1f037b0c97a4",
        "colab": {
          "base_uri": "https://localhost:8080/",
          "height": 119
        }
      },
      "cell_type": "code",
      "source": [
        "print(f'min(train_clean_val) = {np.min(train_clean_val)}, max(train_clean_val) = {np.max(train_clean_val)}')\n",
        "print(f'min(train_dirty_val) = {np.min(train_dirty_val)}, max(train_dirty_val) = {np.max(train_dirty_val)}')"
      ],
      "execution_count": 83,
      "outputs": [
        {
          "output_type": "stream",
          "text": [
            "min(train_clean_val) = 2.724569583278935e-07, max(train_clean_val) = 31.574600219726562\n",
            "min(train_dirty_val) = 3.297913409028297e-08, max(train_dirty_val) = 31.603910446166992\n",
            "min(train_clean_val) = 2.724569583278935e-07, max(train_clean_val) = 31.574600219726562\n",
            "min(train_dirty_val) = 3.297913409028297e-08, max(train_dirty_val) = 31.603910446166992\n",
            "min(train_clean_val) = 2.724569583278935e-07, max(train_clean_val) = 31.574600219726562\n",
            "min(train_dirty_val) = 3.297913409028297e-08, max(train_dirty_val) = 31.603910446166992\n"
          ],
          "name": "stdout"
        }
      ]
    },
    {
      "metadata": {
        "id": "Rc4PTfip8ySC",
        "colab_type": "code",
        "colab": {}
      },
      "cell_type": "code",
      "source": [
        "X_train, X_test, y_train, y_test = train_test_split(train_dirty_val, train_clean_val, test_size=0.2)"
      ],
      "execution_count": 0,
      "outputs": []
    },
    {
      "metadata": {
        "id": "cA6eDgEXmj61",
        "colab_type": "code",
        "colab": {}
      },
      "cell_type": "code",
      "source": [
        "# Build neural network\n",
        "X = tf.placeholder(dtype='float', shape=[None, 513])\n",
        "y = tf.placeholder(dtype='float', shape=[None, 513])\n",
        "\n",
        "in_units = 513\n",
        "h1_units = 450\n",
        "h2_units = 300\n",
        "h3_units = 300\n",
        "h4_units = 450\n",
        "out_units = 513\n",
        "\n",
        "# He initializer: mean = 0.0, stddev = sqrt(2/#in_nodes)\n",
        "weights = {\n",
        "    'w1': tf.Variable(dtype='float', initial_value=tf.random_normal(shape=[in_units, h1_units], mean=0.0, stddev=np.sqrt(2/in_units))),\n",
        "    'w2': tf.Variable(dtype='float', initial_value=tf.random_normal(shape=[h1_units, h2_units], mean=0.0, stddev=np.sqrt(2/h1_units))),\n",
        "    'w3': tf.Variable(dtype='float', initial_value=tf.random_normal(shape=[h2_units, h3_units], mean=0.0, stddev=np.sqrt(2/h2_units))),\n",
        "    'w4': tf.Variable(dtype='float', initial_value=tf.random_normal(shape=[h3_units, h4_units], mean=0.0, stddev=np.sqrt(2/h3_units))),\n",
        "    'out': tf.Variable(dtype='float', initial_value=tf.random_normal(shape=[h4_units, out_units], mean=0.0, stddev=np.sqrt(2/h4_units))),\n",
        "}\n",
        "\n",
        "bias_initial_value = 0.01\n",
        "biases = {\n",
        "    'b1': tf.Variable(initial_value=tf.ones([h1_units]) * bias_initial_value),\n",
        "    'b2': tf.Variable(initial_value=tf.ones([h2_units]) * bias_initial_value),\n",
        "    'b3': tf.Variable(initial_value=tf.ones([h3_units]) * bias_initial_value),\n",
        "    'b4': tf.Variable(initial_value=tf.ones([h4_units]) * bias_initial_value),\n",
        "    'out': tf.Variable(initial_value=tf.ones([out_units]) * bias_initial_value)\n",
        "}"
      ],
      "execution_count": 0,
      "outputs": []
    },
    {
      "metadata": {
        "id": "8bhXFbA9nTAF",
        "colab_type": "code",
        "colab": {}
      },
      "cell_type": "code",
      "source": [
        "beta = 0.000005\n",
        "\n",
        "z1 = tf.add(tf.matmul(X, weights['w1']), biases['b1'])\n",
        "a1 = tf.nn.relu(z1)\n",
        "\n",
        "z2 = tf.add(tf.matmul(a1, weights['w2']), biases['b2'])\n",
        "a2 = tf.nn.relu(z2)\n",
        "\n",
        "z3 = tf.add(tf.matmul(a2, weights['w3']), biases['b3'])\n",
        "a3 = tf.nn.relu(z3)\n",
        "\n",
        "z4 = tf.add(tf.matmul(a2, weights['w4']), biases['b4'])\n",
        "a4 = tf.nn.relu(z4)\n",
        "\n",
        "logits = tf.add(tf.matmul(a4, weights['out']), biases['out'])\n",
        "output = tf.nn.relu(logits)\n",
        "\n",
        "regularizers = tf.nn.l2_loss(weights['w1']) + tf.nn.l2_loss(weights['w2']) + tf.nn.l2_loss(weights['w3']) + tf.nn.l2_loss(weights['w4']) + tf.nn.l2_loss(weights['out'])\n",
        "mse = tf.losses.mean_squared_error(labels=y, predictions=output)\n",
        "loss = tf.reduce_mean(mse + beta * regularizers)\n",
        "\n",
        "optimizer = tf.train.AdamOptimizer(learning_rate=0.001)\n",
        "\n",
        "train = optimizer.minimize(loss=loss)\n",
        "\n",
        "# calculate accuracy\n",
        "correct = tf.equal(tf.argmax(input=logits, axis=1), tf.argmax(input=y, axis=1))\n",
        "accuracy = tf.reduce_mean(tf.cast(dtype='float', x=correct))\n",
        "\n",
        "init = tf.global_variables_initializer()"
      ],
      "execution_count": 0,
      "outputs": []
    },
    {
      "metadata": {
        "id": "so4uXh7Bni3K",
        "colab_type": "code",
        "outputId": "f7572c28-5fa0-4a56-c9f4-887b46169011",
        "colab": {
          "base_uri": "https://localhost:8080/",
          "height": 697
        }
      },
      "cell_type": "code",
      "source": [
        "batch_size = 1000\n",
        "total_samples = X_train.shape[0]\n",
        "\n",
        "train_acc, test_acc = [], []\n",
        "train_loss, test_loss = [], []\n",
        "train_mse, test_mse = [], []\n",
        "\n",
        "sess = tf.Session()\n",
        "  \n",
        "sess.run(init)\n",
        "for epoch in range(1, 10001):\n",
        "  for itr in range(total_samples//batch_size + 1):\n",
        "    start_idx = itr * batch_size\n",
        "    end_idx = min((itr + 1) * batch_size, total_samples)\n",
        "    batch_x, batch_y = X_train[start_idx:end_idx, :], y_train[start_idx:end_idx, :]\n",
        "    sess.run(train, feed_dict={X: batch_x, y: batch_y})\n",
        "    \n",
        "  if epoch % 10 == 0:\n",
        "    trls, trac, trmse = sess.run([loss, accuracy, mse], feed_dict={X: X_train, y: y_train})\n",
        "    tsls, tsac, tsmse = sess.run([loss, accuracy, mse], feed_dict={X: X_test, y: y_test})\n",
        "    \n",
        "    train_acc.append(trac)\n",
        "    train_loss.append(trls)\n",
        "    train_mse.append(trmse)\n",
        "    \n",
        "    test_acc.append(tsac)\n",
        "    test_loss.append(tsls)\n",
        "    test_mse.append(tsmse)\n",
        "    \n",
        "    if epoch % 1000 == 0:\n",
        "      print(f'Epoch:{epoch}')\n",
        "      print(f'Train set:\\tLoss:{trls:.4f},\\tAccuracy:{trac:.4f}\\tMSE:{trmse:.4f}')\n",
        "      print(f'Test set:\\tLoss:{tsls:.4f},\\tAccuracy:{tsac:.4f}\\tMSE:{tsmse:.4f}\\n')"
      ],
      "execution_count": 126,
      "outputs": [
        {
          "output_type": "stream",
          "text": [
            "Epoch:1000\n",
            "Train set:\tLoss:0.0035,\tAccuracy:0.5547\tMSE:0.0014\n",
            "Test set:\tLoss:0.0072,\tAccuracy:0.4919\tMSE:0.0050\n",
            "\n",
            "Epoch:2000\n",
            "Train set:\tLoss:0.0025,\tAccuracy:0.5684\tMSE:0.0011\n",
            "Test set:\tLoss:0.0060,\tAccuracy:0.5000\tMSE:0.0046\n",
            "\n",
            "Epoch:3000\n",
            "Train set:\tLoss:0.0023,\tAccuracy:0.5562\tMSE:0.0010\n",
            "Test set:\tLoss:0.0058,\tAccuracy:0.4837\tMSE:0.0045\n",
            "\n",
            "Epoch:4000\n",
            "Train set:\tLoss:0.0022,\tAccuracy:0.5648\tMSE:0.0010\n",
            "Test set:\tLoss:0.0058,\tAccuracy:0.4959\tMSE:0.0046\n",
            "\n",
            "Epoch:5000\n",
            "Train set:\tLoss:0.0022,\tAccuracy:0.5704\tMSE:0.0009\n",
            "Test set:\tLoss:0.0058,\tAccuracy:0.4959\tMSE:0.0045\n",
            "\n",
            "Epoch:6000\n",
            "Train set:\tLoss:0.0021,\tAccuracy:0.5689\tMSE:0.0009\n",
            "Test set:\tLoss:0.0058,\tAccuracy:0.4959\tMSE:0.0046\n",
            "\n",
            "Epoch:7000\n",
            "Train set:\tLoss:0.0021,\tAccuracy:0.5663\tMSE:0.0009\n",
            "Test set:\tLoss:0.0058,\tAccuracy:0.4858\tMSE:0.0046\n",
            "\n",
            "Epoch:8000\n",
            "Train set:\tLoss:0.0021,\tAccuracy:0.5740\tMSE:0.0009\n",
            "Test set:\tLoss:0.0058,\tAccuracy:0.4878\tMSE:0.0047\n",
            "\n",
            "Epoch:9000\n",
            "Train set:\tLoss:0.0021,\tAccuracy:0.5719\tMSE:0.0009\n",
            "Test set:\tLoss:0.0059,\tAccuracy:0.4858\tMSE:0.0047\n",
            "\n",
            "Epoch:10000\n",
            "Train set:\tLoss:0.0021,\tAccuracy:0.5730\tMSE:0.0009\n",
            "Test set:\tLoss:0.0059,\tAccuracy:0.4837\tMSE:0.0047\n",
            "\n"
          ],
          "name": "stdout"
        }
      ]
    },
    {
      "metadata": {
        "id": "fMPLGC-knyvZ",
        "colab_type": "code",
        "outputId": "8762eb3f-b46b-4997-97b8-5a2360124aa2",
        "colab": {
          "base_uri": "https://localhost:8080/",
          "height": 282
        }
      },
      "cell_type": "code",
      "source": [
        "plt.plot(train_loss)\n",
        "plt.plot(test_loss)\n",
        "plt.legend(['train', 'test'])"
      ],
      "execution_count": 128,
      "outputs": [
        {
          "output_type": "execute_result",
          "data": {
            "text/plain": [
              "<matplotlib.legend.Legend at 0x7f67a4714e10>"
            ]
          },
          "metadata": {
            "tags": []
          },
          "execution_count": 128
        },
        {
          "output_type": "display_data",
          "data": {
            "image/png": "[encoded data removed]",
            "text/plain": [
              "<Figure size 432x288 with 1 Axes>"
            ]
          },
          "metadata": {
            "tags": []
          }
        }
      ]
    },
    {
      "metadata": {
        "id": "HnoR_DwXuQb2",
        "colab_type": "code",
        "colab": {}
      },
      "cell_type": "code",
      "source": [
        ""
      ],
      "execution_count": 0,
      "outputs": []
    },
    {
      "metadata": {
        "id": "sNfmn-eEcWYm",
        "colab_type": "code",
        "colab": {}
      },
      "cell_type": "code",
      "source": [
        "# save_audio(test1_dirty.T, test1_dirty_val.T, test1_clean_val.T, base_path+'output.wav')"
      ],
      "execution_count": 0,
      "outputs": []
    },
    {
      "metadata": {
        "id": "v5K3AMofqVYX",
        "colab_type": "code",
        "colab": {}
      },
      "cell_type": "code",
      "source": [
        "def clean_audio(filename, out_filename):\n",
        "    print(filename, out_filename)\n",
        "    s, sr = librosa.load(filename, sr=None)\n",
        "    dirty = librosa.stft(s, n_fft=1024, hop_length=512).T\n",
        "    dirty_val = np.abs(dirty)\n",
        "    clean_val = sess.run(output, feed_dict={X: dirty_val})\n",
        "    \n",
        "    result = np.multiply(np.divide(dirty.T, dirty_val.T), clean_val.T)\n",
        "    sh_test = librosa.istft(result, hop_length=512)\n",
        "    librosa.output.write_wav(out_filename, sh_test, sr)"
      ],
      "execution_count": 0,
      "outputs": []
    },
    {
      "metadata": {
        "id": "l_eWOBjAqqQG",
        "colab_type": "code",
        "colab": {
          "base_uri": "https://localhost:8080/",
          "height": 34
        },
        "outputId": "83fe0cae-284b-493c-a29d-1669c876b7e6"
      },
      "cell_type": "code",
      "source": [
        "clean_audio(base_path + 'test_x_01.wav', base_path + 'test_x_01_cleaned.wav')"
      ],
      "execution_count": 130,
      "outputs": [
        {
          "output_type": "stream",
          "text": [
            "./drive/My Drive/Colab Notebooks/Speech Denoising/Data/test_x_01.wav ./drive/My Drive/Colab Notebooks/Speech Denoising/Data/test_x_01_cleaned.wav\n"
          ],
          "name": "stdout"
        }
      ]
    },
    {
      "metadata": {
        "id": "d6JDiI6qRnxh",
        "colab_type": "code",
        "colab": {
          "base_uri": "https://localhost:8080/",
          "height": 34
        },
        "outputId": "ff900c95-1f93-45b8-e2fe-e865b85f449a"
      },
      "cell_type": "code",
      "source": [
        "clean_audio(base_path + 'test_x_02.wav', base_path + 'test_x_02_cleaned.wav')"
      ],
      "execution_count": 131,
      "outputs": [
        {
          "output_type": "stream",
          "text": [
            "./drive/My Drive/Colab Notebooks/Speech Denoising/Data/test_x_02.wav ./drive/My Drive/Colab Notebooks/Speech Denoising/Data/test_x_02_cleaned.wav\n"
          ],
          "name": "stdout"
        }
      ]
    },
    {
      "metadata": {
        "id": "4OEFF5YriZSu",
        "colab_type": "code",
        "colab": {}
      },
      "cell_type": "code",
      "source": [
        ""
      ],
      "execution_count": 0,
      "outputs": []
    }
  ]
}