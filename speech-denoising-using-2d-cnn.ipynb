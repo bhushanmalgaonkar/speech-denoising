{
  "nbformat": 4,
  "nbformat_minor": 0,
  "metadata": {
    "colab": {
      "name": "speech-denoising-using-2d-cnn.ipynb",
      "version": "0.3.2",
      "provenance": []
    },
    "kernelspec": {
      "name": "python3",
      "display_name": "Python 3"
    },
    "accelerator": "GPU"
  },
  "cells": [
    {
      "metadata": {
        "id": "A22u46Yz9dZt",
        "colab_type": "code",
        "outputId": "53c4aa67-2b0c-40ad-d769-3f7b6ee9a2db",
        "colab": {
          "base_uri": "https://localhost:8080/",
          "height": 34
        }
      },
      "cell_type": "code",
      "source": [
        "from google.colab import drive\n",
        "drive.mount('/content/drive')"
      ],
      "execution_count": 1,
      "outputs": [
        {
          "output_type": "stream",
          "text": [
            "Drive already mounted at /content/drive; to attempt to forcibly remount, call drive.mount(\"/content/drive\", force_remount=True).\n"
          ],
          "name": "stdout"
        }
      ]
    },
    {
      "metadata": {
        "id": "A6IhYmaK9dZ-",
        "colab_type": "code",
        "colab": {}
      },
      "cell_type": "code",
      "source": [
        "base_path = './drive/My Drive/Colab Notebooks/Speech Denoising/Data/'"
      ],
      "execution_count": 0,
      "outputs": []
    },
    {
      "metadata": {
        "id": "NkkIBfrb9daL",
        "colab_type": "code",
        "outputId": "b0e90406-af7f-461e-bd26-c174db763a32",
        "colab": {
          "base_uri": "https://localhost:8080/",
          "height": 202
        }
      },
      "cell_type": "code",
      "source": [
        "!pip install librosa"
      ],
      "execution_count": 3,
      "outputs": [
        {
          "output_type": "stream",
          "text": [
            "Requirement already satisfied: librosa in /usr/local/lib/python3.6/dist-packages (0.6.3)\n",
            "Requirement already satisfied: audioread>=2.0.0 in /usr/local/lib/python3.6/dist-packages (from librosa) (2.1.6)\n",
            "Requirement already satisfied: numpy>=1.8.0 in /usr/local/lib/python3.6/dist-packages (from librosa) (1.14.6)\n",
            "Requirement already satisfied: scipy>=1.0.0 in /usr/local/lib/python3.6/dist-packages (from librosa) (1.1.0)\n",
            "Requirement already satisfied: scikit-learn!=0.19.0,>=0.14.0 in /usr/local/lib/python3.6/dist-packages (from librosa) (0.20.2)\n",
            "Requirement already satisfied: joblib>=0.12 in /usr/local/lib/python3.6/dist-packages (from librosa) (0.13.2)\n",
            "Requirement already satisfied: decorator>=3.0.0 in /usr/local/lib/python3.6/dist-packages (from librosa) (4.3.2)\n",
            "Requirement already satisfied: six>=1.3 in /usr/local/lib/python3.6/dist-packages (from librosa) (1.11.0)\n",
            "Requirement already satisfied: resampy>=0.2.0 in /usr/local/lib/python3.6/dist-packages (from librosa) (0.2.1)\n",
            "Requirement already satisfied: numba>=0.38.0 in /usr/local/lib/python3.6/dist-packages (from librosa) (0.40.1)\n",
            "Requirement already satisfied: llvmlite>=0.25.0dev0 in /usr/local/lib/python3.6/dist-packages (from numba>=0.38.0->librosa) (0.27.1)\n"
          ],
          "name": "stdout"
        }
      ]
    },
    {
      "metadata": {
        "id": "s3KwRQm39daY",
        "colab_type": "code",
        "colab": {}
      },
      "cell_type": "code",
      "source": [
        "import librosa"
      ],
      "execution_count": 0,
      "outputs": []
    },
    {
      "metadata": {
        "id": "VNFy40WH9dal",
        "colab_type": "code",
        "colab": {}
      },
      "cell_type": "code",
      "source": [
        "import math\n",
        "from time import time\n",
        "import numpy as np\n",
        "import seaborn as sns\n",
        "import matplotlib.pyplot as plt\n",
        "%matplotlib inline"
      ],
      "execution_count": 0,
      "outputs": []
    },
    {
      "metadata": {
        "id": "s2NGSRHz9daz",
        "colab_type": "code",
        "colab": {}
      },
      "cell_type": "code",
      "source": [
        "from sklearn.model_selection import train_test_split\n",
        "import tensorflow as tf"
      ],
      "execution_count": 0,
      "outputs": []
    },
    {
      "metadata": {
        "id": "34VCg8v19dbB",
        "colab_type": "code",
        "colab": {}
      },
      "cell_type": "code",
      "source": [
        "s, sr=librosa.load(base_path + 'train_clean_male.wav', sr=None)\n",
        "train_clean=librosa.stft(s, n_fft=1024, hop_length=512).T\n",
        "\n",
        "sn, sr=librosa.load(base_path + 'train_dirty_male.wav', sr=None)\n",
        "train_dirty=librosa.stft(sn, n_fft=1024, hop_length=512).T"
      ],
      "execution_count": 0,
      "outputs": []
    },
    {
      "metadata": {
        "id": "cEYknx4N9dbK",
        "colab_type": "code",
        "outputId": "f88c776e-883c-4b9a-f182-b928486971f8",
        "colab": {
          "base_uri": "https://localhost:8080/",
          "height": 34
        }
      },
      "cell_type": "code",
      "source": [
        "train_clean.shape, train_dirty.shape"
      ],
      "execution_count": 8,
      "outputs": [
        {
          "output_type": "execute_result",
          "data": {
            "text/plain": [
              "((2459, 513), (2459, 513))"
            ]
          },
          "metadata": {
            "tags": []
          },
          "execution_count": 8
        }
      ]
    },
    {
      "metadata": {
        "id": "KT6kMu2q9dbS",
        "colab_type": "text"
      },
      "cell_type": "markdown",
      "source": [
        "### Take magnitudes of audio signals"
      ]
    },
    {
      "metadata": {
        "id": "fF9vQnnq9dbT",
        "colab_type": "code",
        "colab": {}
      },
      "cell_type": "code",
      "source": [
        "train_clean_val = np.abs(train_clean)\n",
        "train_dirty_val = np.abs(train_dirty)"
      ],
      "execution_count": 0,
      "outputs": []
    },
    {
      "metadata": {
        "id": "pe3fc4CM9dbZ",
        "colab_type": "text"
      },
      "cell_type": "markdown",
      "source": [
        "Check bounds of absolute values"
      ]
    },
    {
      "metadata": {
        "id": "tlGvTOFk9dba",
        "colab_type": "code",
        "outputId": "cd1c662e-30fa-43c1-f092-fb45b824b104",
        "colab": {
          "base_uri": "https://localhost:8080/",
          "height": 50
        }
      },
      "cell_type": "code",
      "source": [
        "print(f'min(train_clean_val) = {np.min(train_clean_val)}, max(train_clean_val) = {np.max(train_clean_val)}')\n",
        "print(f'min(train_dirty_val) = {np.min(train_dirty_val)}, max(train_dirty_val) = {np.max(train_dirty_val)}')"
      ],
      "execution_count": 10,
      "outputs": [
        {
          "output_type": "stream",
          "text": [
            "min(train_clean_val) = 2.724569583278935e-07, max(train_clean_val) = 31.574600219726562\n",
            "min(train_dirty_val) = 3.297913409028297e-08, max(train_dirty_val) = 31.603910446166992\n"
          ],
          "name": "stdout"
        }
      ]
    },
    {
      "metadata": {
        "id": "XenCp9OT9dbg",
        "colab_type": "text"
      },
      "cell_type": "markdown",
      "source": [
        "## Training"
      ]
    },
    {
      "metadata": {
        "id": "_9HTvGK09dbh",
        "colab_type": "text"
      },
      "cell_type": "markdown",
      "source": [
        "### Split the data into training and validation set"
      ]
    },
    {
      "metadata": {
        "id": "ZFA6a4dM9dbj",
        "colab_type": "code",
        "colab": {}
      },
      "cell_type": "code",
      "source": [
        "X_train, X_test, y_train, y_test = train_test_split(train_dirty_val, train_clean_val, test_size=0.2, shuffle=False)"
      ],
      "execution_count": 0,
      "outputs": []
    },
    {
      "metadata": {
        "id": "dZzyba-Gf4A-",
        "colab_type": "code",
        "outputId": "82b50eb5-c0e7-481f-95eb-b9dee2db0afa",
        "colab": {
          "base_uri": "https://localhost:8080/",
          "height": 34
        }
      },
      "cell_type": "code",
      "source": [
        "X_train.shape, X_test.shape"
      ],
      "execution_count": 12,
      "outputs": [
        {
          "output_type": "execute_result",
          "data": {
            "text/plain": [
              "((1967, 513), (492, 513))"
            ]
          },
          "metadata": {
            "tags": []
          },
          "execution_count": 12
        }
      ]
    },
    {
      "metadata": {
        "id": "5AIGM_XQ9dbp",
        "colab_type": "text"
      },
      "cell_type": "markdown",
      "source": [
        "### Define tensorflow variables for the model\n"
      ]
    },
    {
      "metadata": {
        "id": "AxKfF-zV9db2",
        "colab_type": "code",
        "colab": {}
      },
      "cell_type": "code",
      "source": [
        "IMAGE_HEIGHT = 20\n",
        "IMAGE_WIDTH = X_train.shape[1]"
      ],
      "execution_count": 0,
      "outputs": []
    },
    {
      "metadata": {
        "id": "LC5F71K-RS4s",
        "colab_type": "code",
        "outputId": "92b93e92-6bf9-492e-fd23-ddab1be55dd5",
        "colab": {
          "base_uri": "https://localhost:8080/",
          "height": 87
        }
      },
      "cell_type": "code",
      "source": [
        "X = tf.placeholder(dtype='float', shape=[None, IMAGE_HEIGHT, IMAGE_WIDTH, 1])\n",
        "Y = tf.placeholder(dtype='float', shape=[None, IMAGE_HEIGHT, IMAGE_WIDTH, 1])\n",
        "\n",
        "dropout_X = tf.layers.Dropout(rate=0.4)(X)\n",
        "\n",
        "conv_1 = tf.layers.Conv2D(filters=8, kernel_size=(5, 5), strides=(3, 3), padding='same', data_format='channels_last', activation=tf.nn.relu)(dropout_X)\n",
        "pool_1 = tf.layers.MaxPooling2D(pool_size=(2, 2), strides=(1, 1))(conv_1)\n",
        "bn_1 = tf.layers.BatchNormalization()(pool_1)\n",
        "\n",
        "dropout_1 = tf.layers.Dropout(rate=0.4)(bn_1)\n",
        "\n",
        "# conv_2 = tf.layers.Conv2D(filters=16, kernel_size=(3, 3), strides=(1, 1), padding='same', data_format='channels_last', activation=tf.nn.relu)(dropout_1)\n",
        "# pool_2 = tf.layers.MaxPooling2D(pool_size=(2, 2), strides=(2, 2))(conv_2)\n",
        "# bn_2 = tf.layers.BatchNormalization()(pool_2)\n",
        "\n",
        "# dropout_2 = tf.layers.Dropout(rate=0.2)(bn_2)\n",
        "\n",
        "flattened = tf.layers.Flatten()(dropout_1)\n",
        "dense_1 = tf.layers.Dense(units=IMAGE_HEIGHT * IMAGE_WIDTH, activation=tf.nn.relu)(flattened)\n",
        "output = tf.reshape(dense_1, shape=[-1, IMAGE_HEIGHT, IMAGE_WIDTH, 1])"
      ],
      "execution_count": 14,
      "outputs": [
        {
          "output_type": "stream",
          "text": [
            "WARNING:tensorflow:From /usr/local/lib/python3.6/dist-packages/tensorflow/python/framework/op_def_library.py:263: colocate_with (from tensorflow.python.framework.ops) is deprecated and will be removed in a future version.\n",
            "Instructions for updating:\n",
            "Colocations handled automatically by placer.\n"
          ],
          "name": "stdout"
        }
      ]
    },
    {
      "metadata": {
        "id": "A0q5OGq5YuvZ",
        "colab_type": "code",
        "outputId": "7e646211-744d-4fda-c028-7ffc16602eea",
        "colab": {
          "base_uri": "https://localhost:8080/",
          "height": 168
        }
      },
      "cell_type": "code",
      "source": [
        "for layer in [X, dropout_X, conv_1, pool_1, bn_1, dropout_1, flattened, dense_1, output]:\n",
        "  print('{:100} ? * {:d}'.format(str(layer), np.prod([x.value for x in layer.shape[1:]])))"
      ],
      "execution_count": 15,
      "outputs": [
        {
          "output_type": "stream",
          "text": [
            "Tensor(\"Placeholder:0\", shape=(?, 20, 513, 1), dtype=float32)                                        ? * 10260\n",
            "Tensor(\"dropout/Identity:0\", shape=(?, 20, 513, 1), dtype=float32)                                   ? * 10260\n",
            "Tensor(\"conv2d/Relu:0\", shape=(?, 7, 171, 8), dtype=float32)                                         ? * 9576\n",
            "Tensor(\"max_pooling2d/MaxPool:0\", shape=(?, 6, 170, 8), dtype=float32)                               ? * 8160\n",
            "Tensor(\"batch_normalization/FusedBatchNorm:0\", shape=(?, 6, 170, 8), dtype=float32)                  ? * 8160\n",
            "Tensor(\"dropout_1/Identity:0\", shape=(?, 6, 170, 8), dtype=float32)                                  ? * 8160\n",
            "Tensor(\"flatten/Reshape:0\", shape=(?, 8160), dtype=float32)                                          ? * 8160\n",
            "Tensor(\"dense/Relu:0\", shape=(?, 10260), dtype=float32)                                              ? * 10260\n",
            "Tensor(\"Reshape:0\", shape=(?, 20, 513, 1), dtype=float32)                                            ? * 10260\n"
          ],
          "name": "stdout"
        }
      ]
    },
    {
      "metadata": {
        "id": "ECzOT6iXt0i9",
        "colab_type": "code",
        "outputId": "cd785864-681d-47f8-8fb4-309e03778cfe",
        "colab": {
          "base_uri": "https://localhost:8080/",
          "height": 87
        }
      },
      "cell_type": "code",
      "source": [
        "learning_rate = 0.0004\n",
        "\n",
        "loss = tf.losses.mean_squared_error(labels=Y, predictions=output)\n",
        "train = tf.train.AdamOptimizer(learning_rate=learning_rate).minimize(loss=loss)\n",
        "init = tf.global_variables_initializer()"
      ],
      "execution_count": 16,
      "outputs": [
        {
          "output_type": "stream",
          "text": [
            "WARNING:tensorflow:From /usr/local/lib/python3.6/dist-packages/tensorflow/python/ops/losses/losses_impl.py:667: to_float (from tensorflow.python.ops.math_ops) is deprecated and will be removed in a future version.\n",
            "Instructions for updating:\n",
            "Use tf.cast instead.\n"
          ],
          "name": "stdout"
        }
      ]
    },
    {
      "metadata": {
        "id": "G31h3--KyPrl",
        "colab_type": "code",
        "colab": {}
      },
      "cell_type": "code",
      "source": [
        "batch_size = 512\n",
        "num_epochs = 500\n",
        "display_step = 100\n",
        "log_step = 100\n",
        "\n",
        "total_samples_train = X_train.shape[0] - IMAGE_HEIGHT\n",
        "total_samples_test = X_test.shape[0] - IMAGE_HEIGHT\n",
        "num_batches_train = int(math.ceil(total_samples_train/batch_size))\n",
        "num_batches_test = int(math.ceil(total_samples_test/batch_size))\n",
        "\n",
        "train_loss = []\n",
        "test_loss = []"
      ],
      "execution_count": 0,
      "outputs": []
    },
    {
      "metadata": {
        "id": "QYFpcD_234uh",
        "colab_type": "code",
        "outputId": "b2f99234-af4f-485b-b980-e0f556f26280",
        "colab": {
          "base_uri": "https://localhost:8080/",
          "height": 386
        }
      },
      "cell_type": "code",
      "source": [
        "st = time()\n",
        "\n",
        "sess = tf.Session()\n",
        "\n",
        "sess.run(init)\n",
        "for epoch in range(1, num_epochs + 1):\n",
        "  for itr in range(num_batches_train):\n",
        "    start_idx = itr * batch_size\n",
        "    end_idx = min((itr + 1) * batch_size, total_samples_train)\n",
        "    \n",
        "    # as is\n",
        "    batch_x = np.array([X_train[i:i + IMAGE_HEIGHT] for i in range(start_idx, end_idx)]).reshape(-1, IMAGE_HEIGHT, IMAGE_WIDTH, 1)\n",
        "    batch_y = np.array([y_train[i:i + IMAGE_HEIGHT] for i in range(start_idx, end_idx)]).reshape(-1, IMAGE_HEIGHT, IMAGE_WIDTH, 1)\n",
        "    sess.run(train, feed_dict={X:batch_x, Y:batch_y})\n",
        "    \n",
        "    # filp vertically\n",
        "#     batch_x_v_flip = np.array([p[::-1] for p in batch_x])\n",
        "#     batch_y_v_flip = np.array([p[::-1] for p in batch_y])\n",
        "#     sess.run(train, feed_dict={X:batch_x_v_flip, Y:batch_y_v_flip})\n",
        "    \n",
        "#     # flip horizontally\n",
        "#     batch_x_h_flip = np.array([p[::-1] for q in batch_x for p in q]).reshape(-1, IMAGE_HEIGHT, IMAGE_WIDTH, 1)\n",
        "#     batch_y_h_flip = np.array([p[::-1] for q in batch_y for p in q]).reshape(-1, IMAGE_HEIGHT, IMAGE_WIDTH, 1)\n",
        "#     sess.run(train, feed_dict={X:batch_x_h_flip, Y:batch_y_h_flip})\n",
        "    \n",
        "#     # flip vertically and horizontally\n",
        "#     batch_x_hv_flip = np.array([p[::-1] for p in batch_x_h_flip])\n",
        "#     batch_y_hv_flip = np.array([p[::-1] for p in batch_y_h_flip])\n",
        "#     sess.run(train, feed_dict={X:batch_x_hv_flip, Y:batch_y_hv_flip})\n",
        "    \n",
        "  if epoch % log_step == 0:\n",
        "    # calculate loss for entire training and testing set\n",
        "    trls = 0\n",
        "    for itr in range(num_batches_train):\n",
        "      start_idx = itr * batch_size\n",
        "      end_idx = min((itr + 1) * batch_size, total_samples_train)\n",
        "      \n",
        "      batch_x = np.array([X_train[i:i + IMAGE_HEIGHT] for i in range(start_idx, end_idx)]).reshape(-1, IMAGE_HEIGHT, IMAGE_WIDTH, 1)\n",
        "      batch_y = np.array([y_train[i:i + IMAGE_HEIGHT] for i in range(start_idx, end_idx)]).reshape(-1, IMAGE_HEIGHT, IMAGE_WIDTH, 1)\n",
        "      \n",
        "      trls += sess.run(loss, feed_dict={X:batch_x, Y:batch_y})\n",
        "      \n",
        "    tsls = 0\n",
        "    for itr in range(num_batches_test):\n",
        "      start_idx = itr * batch_size\n",
        "      end_idx = min((itr + 1) * batch_size, total_samples_test)\n",
        "\n",
        "      batch_x = np.array([X_test[i:i + IMAGE_HEIGHT] for i in range(start_idx, end_idx)]).reshape(-1, IMAGE_HEIGHT, IMAGE_WIDTH, 1)\n",
        "      batch_y = np.array([y_test[i:i + IMAGE_HEIGHT] for i in range(start_idx, end_idx)]).reshape(-1, IMAGE_HEIGHT, IMAGE_WIDTH, 1)\n",
        "      \n",
        "      tsls += sess.run(loss, feed_dict={X:batch_x, Y:batch_y})\n",
        "    \n",
        "    # average loss\n",
        "    trls /= total_samples_train\n",
        "    tsls /= total_samples_test\n",
        "    \n",
        "    train_loss.append(trls)\n",
        "    test_loss.append(tsls)\n",
        "    \n",
        "  if epoch % display_step == 0:\n",
        "    print(f'Finished epoch:{epoch}')\n",
        "    print(f'Train set:\\tLoss:{trls:.8f}')\n",
        "    print(f'Test set:\\tLoss:{tsls:.8f}\\n')\n",
        "    \n",
        "print('Time taken: ', (time() - st), 'sec')\n",
        "print('Time per epoch: ', (time() - st)/num_epochs, 'sec')"
      ],
      "execution_count": 18,
      "outputs": [
        {
          "output_type": "stream",
          "text": [
            "Finished epoch:100\n",
            "Train set:\tLoss:0.00002248\n",
            "Test set:\tLoss:0.00011091\n",
            "\n",
            "Finished epoch:200\n",
            "Train set:\tLoss:0.00001588\n",
            "Test set:\tLoss:0.00011028\n",
            "\n",
            "Finished epoch:300\n",
            "Train set:\tLoss:0.00001427\n",
            "Test set:\tLoss:0.00011158\n",
            "\n",
            "Finished epoch:400\n",
            "Train set:\tLoss:0.00001366\n",
            "Test set:\tLoss:0.00011168\n",
            "\n",
            "Finished epoch:500\n",
            "Train set:\tLoss:0.00001317\n",
            "Test set:\tLoss:0.00011226\n",
            "\n",
            "Time taken:  330.39452958106995 sec\n",
            "Time per epoch:  0.6607902011871338 sec\n"
          ],
          "name": "stdout"
        }
      ]
    },
    {
      "metadata": {
        "id": "BN755TvE5-2G",
        "colab_type": "code",
        "outputId": "e64e115f-ef53-460c-e04b-d7c55344b4a2",
        "colab": {
          "base_uri": "https://localhost:8080/",
          "height": 282
        }
      },
      "cell_type": "code",
      "source": [
        "plt.plot(train_loss)\n",
        "plt.plot(test_loss)\n",
        "plt.legend(['Training loss', 'Validation loss'])"
      ],
      "execution_count": 19,
      "outputs": [
        {
          "output_type": "execute_result",
          "data": {
            "text/plain": [
              "<matplotlib.legend.Legend at 0x7f6ef85580f0>"
            ]
          },
          "metadata": {
            "tags": []
          },
          "execution_count": 19
        },
        {
          "output_type": "display_data",
          "data": {
            "image/png": "[encoded data removed]",
            "text/plain": [
              "<Figure size 432x288 with 1 Axes>"
            ]
          },
          "metadata": {
            "tags": []
          }
        }
      ]
    },
    {
      "metadata": {
        "id": "mlc2Twyb9dcU",
        "colab_type": "text"
      },
      "cell_type": "markdown",
      "source": [
        "## Prediction"
      ]
    },
    {
      "metadata": {
        "id": "Un96kFAc9dcW",
        "colab_type": "code",
        "colab": {}
      },
      "cell_type": "code",
      "source": [
        "def parse_audio_file(filename):\n",
        "  # load audio file\n",
        "  s, sr = librosa.load(filename, sr=None)\n",
        "\n",
        "  # apply short time fourier transform\n",
        "  dirty = librosa.stft(s, n_fft=1024, hop_length=512).T\n",
        "\n",
        "  # take magnitudes of audio signals\n",
        "  dirty_val = np.abs(dirty)\n",
        "\n",
        "  return dirty, dirty_val\n",
        "  \n",
        "def clean_audio(dirty_val):    \n",
        "    total_samples = dirty_val.shape[0]\n",
        "    num_batches = int(math.ceil(total_samples/IMAGE_HEIGHT))\n",
        "    \n",
        "    # run it through the neural network to remove noisy bits\n",
        "    clean_val = np.empty(shape=(0, IMAGE_WIDTH), dtype='float')\n",
        "    for itr in range(num_batches):\n",
        "      start_idx = itr * IMAGE_HEIGHT\n",
        "      end_idx = (itr + 1) * IMAGE_HEIGHT\n",
        "      \n",
        "      if end_idx > total_samples:\n",
        "        # this iteration does not have enough rows to make full image\n",
        "        op = np.random.random(size=(total_samples - start_idx, IMAGE_WIDTH)) * 0.001\n",
        "      else:\n",
        "        batch_x = dirty_val[start_idx:end_idx].reshape(-1, IMAGE_HEIGHT, IMAGE_WIDTH, 1)\n",
        "        batch_y = dirty_val[start_idx:end_idx].reshape(-1, IMAGE_HEIGHT, IMAGE_WIDTH, 1)\n",
        "        op = sess.run(output, feed_dict={X:batch_x, Y:batch_y})\n",
        "        op = op.reshape(-1, IMAGE_WIDTH)\n",
        "        \n",
        "      clean_val = np.concatenate([clean_val, op], axis=0)\n",
        "      \n",
        "    return clean_val\n",
        "    \n",
        "def save_as_audio(dirty, dirty_val, clean_val, to_filename):\n",
        "  # recover speech spectogram of the cleaned signal\n",
        "  cleaned = np.multiply(np.divide(dirty.T, dirty_val.T), clean_val.T)\n",
        "  \n",
        "  # recover time domain speech signal by applying inverse short time fourier transform\n",
        "  sh_test = librosa.istft(cleaned, hop_length=512)\n",
        "\n",
        "  # Save to a file\n",
        "  librosa.output.write_wav(to_filename, sh_test, sr)\n",
        "  print('Saved to ', to_filename)"
      ],
      "execution_count": 0,
      "outputs": []
    },
    {
      "metadata": {
        "id": "ZJ2seYjt-8Vk",
        "colab_type": "code",
        "colab": {}
      },
      "cell_type": "code",
      "source": [
        "def save_cleaned(input_filename, save_filename):\n",
        "  dirty, dirty_val = parse_audio_file(input_filename)\n",
        "  clean_val = clean_audio(dirty_val)\n",
        "  save_as_audio(dirty, dirty_val, clean_val, save_filename)"
      ],
      "execution_count": 0,
      "outputs": []
    },
    {
      "metadata": {
        "id": "mNtJakJXD7tP",
        "colab_type": "text"
      },
      "cell_type": "markdown",
      "source": [
        "### Calculate Signal-to-Noise Ratio using following formula\n",
        "\n",
        "<img src=\"https://d1b10bmlvqabco.cloudfront.net/attach/jqcgj7tyoxz6oi/jl5gazm4ih22q1/jrx4uo8px5hd/SNR.JPG\" width=\"400\">\n"
      ]
    },
    {
      "metadata": {
        "id": "27OWiFanEBU0",
        "colab_type": "code",
        "colab": {}
      },
      "cell_type": "code",
      "source": [
        "def snr(dirty, clean):\n",
        "  clean_val = clean_audio(dirty)\n",
        "  return 10 * np.log10(np.sum(np.square(clean))/np.sum(np.square(clean - clean_val)))"
      ],
      "execution_count": 0,
      "outputs": []
    },
    {
      "metadata": {
        "id": "In-XucNREHOM",
        "colab_type": "text"
      },
      "cell_type": "markdown",
      "source": [
        "#### SNR for training data"
      ]
    },
    {
      "metadata": {
        "id": "M9Lxs-nFEL6N",
        "colab_type": "code",
        "outputId": "3ee3c6d7-3da0-4939-c791-5e142597519a",
        "colab": {
          "base_uri": "https://localhost:8080/",
          "height": 34
        }
      },
      "cell_type": "code",
      "source": [
        "snr(clean_audio(X_train), y_train)"
      ],
      "execution_count": 23,
      "outputs": [
        {
          "output_type": "execute_result",
          "data": {
            "text/plain": [
              "7.9824129054365365"
            ]
          },
          "metadata": {
            "tags": []
          },
          "execution_count": 23
        }
      ]
    },
    {
      "metadata": {
        "id": "d6rXtY4jEOaa",
        "colab_type": "text"
      },
      "cell_type": "markdown",
      "source": [
        "#### SNR for validation data"
      ]
    },
    {
      "metadata": {
        "id": "OQWqihOqEcdc",
        "colab_type": "code",
        "outputId": "7f140566-0f46-4b8e-e203-ddc86b6d6def",
        "colab": {
          "base_uri": "https://localhost:8080/",
          "height": 34
        }
      },
      "cell_type": "code",
      "source": [
        "snr(clean_audio(X_test), y_test)"
      ],
      "execution_count": 24,
      "outputs": [
        {
          "output_type": "execute_result",
          "data": {
            "text/plain": [
              "2.3019775850783826"
            ]
          },
          "metadata": {
            "tags": []
          },
          "execution_count": 24
        }
      ]
    },
    {
      "metadata": {
        "id": "1y_iWrxa9dco",
        "colab_type": "code",
        "outputId": "c62ce78b-734a-4dbb-cc07-841c59140818",
        "colab": {
          "base_uri": "https://localhost:8080/",
          "height": 34
        }
      },
      "cell_type": "code",
      "source": [
        "save_cleaned(base_path + 'test_x_01.wav', base_path + 'test_x_01_cleaned.wav')"
      ],
      "execution_count": 25,
      "outputs": [
        {
          "output_type": "stream",
          "text": [
            "Saved to  ./drive/My Drive/Colab Notebooks/Speech Denoising/Data/test_x_01_cleaned.wav\n"
          ],
          "name": "stdout"
        }
      ]
    },
    {
      "metadata": {
        "id": "r2eSLZSt9dcz",
        "colab_type": "code",
        "outputId": "6977b83a-8975-4c47-e16e-ed280bfaf1a7",
        "colab": {
          "base_uri": "https://localhost:8080/",
          "height": 34
        }
      },
      "cell_type": "code",
      "source": [
        "save_cleaned(base_path + 'test_x_02.wav', base_path + 'test_x_02_cleaned.wav')"
      ],
      "execution_count": 26,
      "outputs": [
        {
          "output_type": "stream",
          "text": [
            "Saved to  ./drive/My Drive/Colab Notebooks/Speech Denoising/Data/test_x_02_cleaned.wav\n"
          ],
          "name": "stdout"
        }
      ]
    },
    {
      "metadata": {
        "id": "m3NbPkWTqv2h",
        "colab_type": "code",
        "outputId": "efc396c3-b8c3-41b1-bbc0-19d45f272b54",
        "colab": {
          "base_uri": "https://localhost:8080/",
          "height": 34
        }
      },
      "cell_type": "code",
      "source": [
        "save_cleaned(base_path + 'train_dirty_male.wav', base_path + 'train_dirty_male_cleaned.wav')"
      ],
      "execution_count": 27,
      "outputs": [
        {
          "output_type": "stream",
          "text": [
            "Saved to  ./drive/My Drive/Colab Notebooks/Speech Denoising/Data/train_dirty_male_cleaned.wav\n"
          ],
          "name": "stdout"
        }
      ]
    },
    {
      "metadata": {
        "id": "DxlzFhpe9dc6",
        "colab_type": "code",
        "colab": {}
      },
      "cell_type": "code",
      "source": [
        "# sess.close()"
      ],
      "execution_count": 0,
      "outputs": []
    },
    {
      "metadata": {
        "id": "HRRrlkD-A9ij",
        "colab_type": "code",
        "colab": {}
      },
      "cell_type": "code",
      "source": [
        ""
      ],
      "execution_count": 0,
      "outputs": []
    }
  ]
}